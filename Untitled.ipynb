{
 "cells": [
  {
   "cell_type": "code",
   "execution_count": 23,
   "id": "5d9513da",
   "metadata": {},
   "outputs": [],
   "source": [
    "import pandas as pd\n",
    "import numpy as np"
   ]
  },
  {
   "cell_type": "code",
   "execution_count": 24,
   "id": "29e0ddde",
   "metadata": {},
   "outputs": [],
   "source": [
    "df=pd.read_csv(\"AAPL.csv\", parse_dates=['Date'],index_col=\"Date\")"
   ]
  },
  {
   "cell_type": "code",
   "execution_count": 25,
   "id": "aefb13d1",
   "metadata": {},
   "outputs": [
    {
     "data": {
      "text/html": [
       "<div>\n",
       "<style scoped>\n",
       "    .dataframe tbody tr th:only-of-type {\n",
       "        vertical-align: middle;\n",
       "    }\n",
       "\n",
       "    .dataframe tbody tr th {\n",
       "        vertical-align: top;\n",
       "    }\n",
       "\n",
       "    .dataframe thead th {\n",
       "        text-align: right;\n",
       "    }\n",
       "</style>\n",
       "<table border=\"1\" class=\"dataframe\">\n",
       "  <thead>\n",
       "    <tr style=\"text-align: right;\">\n",
       "      <th></th>\n",
       "      <th>Open</th>\n",
       "      <th>High</th>\n",
       "      <th>Low</th>\n",
       "      <th>Close</th>\n",
       "      <th>Adj Close</th>\n",
       "      <th>Volume</th>\n",
       "    </tr>\n",
       "    <tr>\n",
       "      <th>Date</th>\n",
       "      <th></th>\n",
       "      <th></th>\n",
       "      <th></th>\n",
       "      <th></th>\n",
       "      <th></th>\n",
       "      <th></th>\n",
       "    </tr>\n",
       "  </thead>\n",
       "  <tbody>\n",
       "    <tr>\n",
       "      <th>2023-03-07</th>\n",
       "      <td>153.699997</td>\n",
       "      <td>154.029999</td>\n",
       "      <td>151.130005</td>\n",
       "      <td>151.600006</td>\n",
       "      <td>150.795120</td>\n",
       "      <td>56182000</td>\n",
       "    </tr>\n",
       "    <tr>\n",
       "      <th>2023-03-08</th>\n",
       "      <td>152.809998</td>\n",
       "      <td>153.470001</td>\n",
       "      <td>151.830002</td>\n",
       "      <td>152.869995</td>\n",
       "      <td>152.058365</td>\n",
       "      <td>47204800</td>\n",
       "    </tr>\n",
       "    <tr>\n",
       "      <th>2023-03-09</th>\n",
       "      <td>153.559998</td>\n",
       "      <td>154.539993</td>\n",
       "      <td>150.229996</td>\n",
       "      <td>150.589996</td>\n",
       "      <td>149.790466</td>\n",
       "      <td>53833600</td>\n",
       "    </tr>\n",
       "    <tr>\n",
       "      <th>2023-03-10</th>\n",
       "      <td>150.210007</td>\n",
       "      <td>150.940002</td>\n",
       "      <td>147.610001</td>\n",
       "      <td>148.500000</td>\n",
       "      <td>147.711548</td>\n",
       "      <td>68572400</td>\n",
       "    </tr>\n",
       "    <tr>\n",
       "      <th>2023-03-13</th>\n",
       "      <td>147.809998</td>\n",
       "      <td>153.139999</td>\n",
       "      <td>147.699997</td>\n",
       "      <td>150.470001</td>\n",
       "      <td>149.671112</td>\n",
       "      <td>84457100</td>\n",
       "    </tr>\n",
       "  </tbody>\n",
       "</table>\n",
       "</div>"
      ],
      "text/plain": [
       "                  Open        High         Low       Close   Adj Close  \\\n",
       "Date                                                                     \n",
       "2023-03-07  153.699997  154.029999  151.130005  151.600006  150.795120   \n",
       "2023-03-08  152.809998  153.470001  151.830002  152.869995  152.058365   \n",
       "2023-03-09  153.559998  154.539993  150.229996  150.589996  149.790466   \n",
       "2023-03-10  150.210007  150.940002  147.610001  148.500000  147.711548   \n",
       "2023-03-13  147.809998  153.139999  147.699997  150.470001  149.671112   \n",
       "\n",
       "              Volume  \n",
       "Date                  \n",
       "2023-03-07  56182000  \n",
       "2023-03-08  47204800  \n",
       "2023-03-09  53833600  \n",
       "2023-03-10  68572400  \n",
       "2023-03-13  84457100  "
      ]
     },
     "execution_count": 25,
     "metadata": {},
     "output_type": "execute_result"
    }
   ],
   "source": [
    "df.head()"
   ]
  },
  {
   "cell_type": "code",
   "execution_count": 21,
   "id": "bf1a1b83",
   "metadata": {},
   "outputs": [
    {
     "name": "stdout",
     "output_type": "stream",
     "text": [
      "<class 'pandas.core.frame.DataFrame'>\n",
      "DatetimeIndex: 252 entries, 2023-03-07 to 2024-03-06\n",
      "Data columns (total 6 columns):\n",
      " #   Column     Non-Null Count  Dtype  \n",
      "---  ------     --------------  -----  \n",
      " 0   Open       252 non-null    float64\n",
      " 1   High       252 non-null    float64\n",
      " 2   Low        252 non-null    float64\n",
      " 3   Close      252 non-null    float64\n",
      " 4   Adj Close  252 non-null    float64\n",
      " 5   Volume     252 non-null    int64  \n",
      "dtypes: float64(5), int64(1)\n",
      "memory usage: 13.8 KB\n"
     ]
    }
   ],
   "source": [
    "df.info()"
   ]
  },
  {
   "cell_type": "code",
   "execution_count": 27,
   "id": "86cdfe46",
   "metadata": {},
   "outputs": [
    {
     "data": {
      "text/plain": [
       "DatetimeIndex(['2023-03-07', '2023-03-08', '2023-03-09', '2023-03-10',\n",
       "               '2023-03-13', '2023-03-14', '2023-03-15', '2023-03-16',\n",
       "               '2023-03-17', '2023-03-20',\n",
       "               ...\n",
       "               '2024-02-22', '2024-02-23', '2024-02-26', '2024-02-27',\n",
       "               '2024-02-28', '2024-02-29', '2024-03-01', '2024-03-04',\n",
       "               '2024-03-05', '2024-03-06'],\n",
       "              dtype='datetime64[ns]', name='Date', length=252, freq=None)"
      ]
     },
     "execution_count": 27,
     "metadata": {},
     "output_type": "execute_result"
    }
   ],
   "source": [
    "df.index"
   ]
  },
  {
   "cell_type": "code",
   "execution_count": 16,
   "id": "9605ae36",
   "metadata": {},
   "outputs": [
    {
     "data": {
      "text/html": [
       "<div>\n",
       "<style scoped>\n",
       "    .dataframe tbody tr th:only-of-type {\n",
       "        vertical-align: middle;\n",
       "    }\n",
       "\n",
       "    .dataframe tbody tr th {\n",
       "        vertical-align: top;\n",
       "    }\n",
       "\n",
       "    .dataframe thead th {\n",
       "        text-align: right;\n",
       "    }\n",
       "</style>\n",
       "<table border=\"1\" class=\"dataframe\">\n",
       "  <thead>\n",
       "    <tr style=\"text-align: right;\">\n",
       "      <th></th>\n",
       "      <th>Open</th>\n",
       "      <th>High</th>\n",
       "      <th>Low</th>\n",
       "      <th>Close</th>\n",
       "      <th>Adj Close</th>\n",
       "      <th>Volume</th>\n",
       "    </tr>\n",
       "    <tr>\n",
       "      <th>Date</th>\n",
       "      <th></th>\n",
       "      <th></th>\n",
       "      <th></th>\n",
       "      <th></th>\n",
       "      <th></th>\n",
       "      <th></th>\n",
       "    </tr>\n",
       "  </thead>\n",
       "  <tbody>\n",
       "    <tr>\n",
       "      <th>2023-03-07</th>\n",
       "      <td>153.699997</td>\n",
       "      <td>154.029999</td>\n",
       "      <td>151.130005</td>\n",
       "      <td>151.600006</td>\n",
       "      <td>150.795120</td>\n",
       "      <td>56182000</td>\n",
       "    </tr>\n",
       "    <tr>\n",
       "      <th>2023-03-08</th>\n",
       "      <td>152.809998</td>\n",
       "      <td>153.470001</td>\n",
       "      <td>151.830002</td>\n",
       "      <td>152.869995</td>\n",
       "      <td>152.058365</td>\n",
       "      <td>47204800</td>\n",
       "    </tr>\n",
       "    <tr>\n",
       "      <th>2023-03-09</th>\n",
       "      <td>153.559998</td>\n",
       "      <td>154.539993</td>\n",
       "      <td>150.229996</td>\n",
       "      <td>150.589996</td>\n",
       "      <td>149.790466</td>\n",
       "      <td>53833600</td>\n",
       "    </tr>\n",
       "    <tr>\n",
       "      <th>2023-03-10</th>\n",
       "      <td>150.210007</td>\n",
       "      <td>150.940002</td>\n",
       "      <td>147.610001</td>\n",
       "      <td>148.500000</td>\n",
       "      <td>147.711548</td>\n",
       "      <td>68572400</td>\n",
       "    </tr>\n",
       "    <tr>\n",
       "      <th>2023-03-13</th>\n",
       "      <td>147.809998</td>\n",
       "      <td>153.139999</td>\n",
       "      <td>147.699997</td>\n",
       "      <td>150.470001</td>\n",
       "      <td>149.671112</td>\n",
       "      <td>84457100</td>\n",
       "    </tr>\n",
       "  </tbody>\n",
       "</table>\n",
       "</div>"
      ],
      "text/plain": [
       "                  Open        High         Low       Close   Adj Close  \\\n",
       "Date                                                                     \n",
       "2023-03-07  153.699997  154.029999  151.130005  151.600006  150.795120   \n",
       "2023-03-08  152.809998  153.470001  151.830002  152.869995  152.058365   \n",
       "2023-03-09  153.559998  154.539993  150.229996  150.589996  149.790466   \n",
       "2023-03-10  150.210007  150.940002  147.610001  148.500000  147.711548   \n",
       "2023-03-13  147.809998  153.139999  147.699997  150.470001  149.671112   \n",
       "\n",
       "              Volume  \n",
       "Date                  \n",
       "2023-03-07  56182000  \n",
       "2023-03-08  47204800  \n",
       "2023-03-09  53833600  \n",
       "2023-03-10  68572400  \n",
       "2023-03-13  84457100  "
      ]
     },
     "execution_count": 16,
     "metadata": {},
     "output_type": "execute_result"
    }
   ],
   "source": [
    "df.head()"
   ]
  },
  {
   "cell_type": "code",
   "execution_count": null,
   "id": "75b00cc0",
   "metadata": {},
   "outputs": [],
   "source": []
  },
  {
   "cell_type": "code",
   "execution_count": 35,
   "id": "572d7de8",
   "metadata": {},
   "outputs": [
    {
     "data": {
      "text/html": [
       "<div>\n",
       "<style scoped>\n",
       "    .dataframe tbody tr th:only-of-type {\n",
       "        vertical-align: middle;\n",
       "    }\n",
       "\n",
       "    .dataframe tbody tr th {\n",
       "        vertical-align: top;\n",
       "    }\n",
       "\n",
       "    .dataframe thead th {\n",
       "        text-align: right;\n",
       "    }\n",
       "</style>\n",
       "<table border=\"1\" class=\"dataframe\">\n",
       "  <thead>\n",
       "    <tr style=\"text-align: right;\">\n",
       "      <th></th>\n",
       "      <th>Open</th>\n",
       "      <th>High</th>\n",
       "      <th>Low</th>\n",
       "      <th>Close</th>\n",
       "      <th>Adj Close</th>\n",
       "      <th>Volume</th>\n",
       "    </tr>\n",
       "    <tr>\n",
       "      <th>Date</th>\n",
       "      <th></th>\n",
       "      <th></th>\n",
       "      <th></th>\n",
       "      <th></th>\n",
       "      <th></th>\n",
       "      <th></th>\n",
       "    </tr>\n",
       "  </thead>\n",
       "  <tbody>\n",
       "    <tr>\n",
       "      <th>2023-03-07</th>\n",
       "      <td>153.699997</td>\n",
       "      <td>154.029999</td>\n",
       "      <td>151.130005</td>\n",
       "      <td>151.600006</td>\n",
       "      <td>150.795120</td>\n",
       "      <td>56182000</td>\n",
       "    </tr>\n",
       "    <tr>\n",
       "      <th>2023-03-08</th>\n",
       "      <td>152.809998</td>\n",
       "      <td>153.470001</td>\n",
       "      <td>151.830002</td>\n",
       "      <td>152.869995</td>\n",
       "      <td>152.058365</td>\n",
       "      <td>47204800</td>\n",
       "    </tr>\n",
       "    <tr>\n",
       "      <th>2023-03-09</th>\n",
       "      <td>153.559998</td>\n",
       "      <td>154.539993</td>\n",
       "      <td>150.229996</td>\n",
       "      <td>150.589996</td>\n",
       "      <td>149.790466</td>\n",
       "      <td>53833600</td>\n",
       "    </tr>\n",
       "    <tr>\n",
       "      <th>2023-03-10</th>\n",
       "      <td>150.210007</td>\n",
       "      <td>150.940002</td>\n",
       "      <td>147.610001</td>\n",
       "      <td>148.500000</td>\n",
       "      <td>147.711548</td>\n",
       "      <td>68572400</td>\n",
       "    </tr>\n",
       "    <tr>\n",
       "      <th>2023-03-13</th>\n",
       "      <td>147.809998</td>\n",
       "      <td>153.139999</td>\n",
       "      <td>147.699997</td>\n",
       "      <td>150.470001</td>\n",
       "      <td>149.671112</td>\n",
       "      <td>84457100</td>\n",
       "    </tr>\n",
       "    <tr>\n",
       "      <th>2023-03-14</th>\n",
       "      <td>151.279999</td>\n",
       "      <td>153.399994</td>\n",
       "      <td>150.100006</td>\n",
       "      <td>152.589996</td>\n",
       "      <td>151.779846</td>\n",
       "      <td>73695900</td>\n",
       "    </tr>\n",
       "    <tr>\n",
       "      <th>2023-03-15</th>\n",
       "      <td>151.190002</td>\n",
       "      <td>153.250000</td>\n",
       "      <td>149.919998</td>\n",
       "      <td>152.990005</td>\n",
       "      <td>152.177719</td>\n",
       "      <td>77167900</td>\n",
       "    </tr>\n",
       "    <tr>\n",
       "      <th>2023-03-16</th>\n",
       "      <td>152.160004</td>\n",
       "      <td>156.460007</td>\n",
       "      <td>151.639999</td>\n",
       "      <td>155.850006</td>\n",
       "      <td>155.022537</td>\n",
       "      <td>76161100</td>\n",
       "    </tr>\n",
       "    <tr>\n",
       "      <th>2023-03-17</th>\n",
       "      <td>156.080002</td>\n",
       "      <td>156.740005</td>\n",
       "      <td>154.279999</td>\n",
       "      <td>155.000000</td>\n",
       "      <td>154.177048</td>\n",
       "      <td>98944600</td>\n",
       "    </tr>\n",
       "    <tr>\n",
       "      <th>2023-03-20</th>\n",
       "      <td>155.070007</td>\n",
       "      <td>157.820007</td>\n",
       "      <td>154.149994</td>\n",
       "      <td>157.399994</td>\n",
       "      <td>156.564301</td>\n",
       "      <td>73641400</td>\n",
       "    </tr>\n",
       "    <tr>\n",
       "      <th>2023-03-21</th>\n",
       "      <td>157.320007</td>\n",
       "      <td>159.399994</td>\n",
       "      <td>156.539993</td>\n",
       "      <td>159.279999</td>\n",
       "      <td>158.434326</td>\n",
       "      <td>73938300</td>\n",
       "    </tr>\n",
       "    <tr>\n",
       "      <th>2023-03-22</th>\n",
       "      <td>159.300003</td>\n",
       "      <td>162.139999</td>\n",
       "      <td>157.809998</td>\n",
       "      <td>157.830002</td>\n",
       "      <td>156.992020</td>\n",
       "      <td>75701800</td>\n",
       "    </tr>\n",
       "    <tr>\n",
       "      <th>2023-03-23</th>\n",
       "      <td>158.830002</td>\n",
       "      <td>161.550003</td>\n",
       "      <td>157.679993</td>\n",
       "      <td>158.929993</td>\n",
       "      <td>158.086182</td>\n",
       "      <td>67622100</td>\n",
       "    </tr>\n",
       "    <tr>\n",
       "      <th>2023-03-24</th>\n",
       "      <td>158.860001</td>\n",
       "      <td>160.339996</td>\n",
       "      <td>157.850006</td>\n",
       "      <td>160.250000</td>\n",
       "      <td>159.399170</td>\n",
       "      <td>59196500</td>\n",
       "    </tr>\n",
       "    <tr>\n",
       "      <th>2023-03-27</th>\n",
       "      <td>159.940002</td>\n",
       "      <td>160.770004</td>\n",
       "      <td>157.869995</td>\n",
       "      <td>158.279999</td>\n",
       "      <td>157.439621</td>\n",
       "      <td>52390300</td>\n",
       "    </tr>\n",
       "    <tr>\n",
       "      <th>2023-03-28</th>\n",
       "      <td>157.970001</td>\n",
       "      <td>158.490005</td>\n",
       "      <td>155.979996</td>\n",
       "      <td>157.649994</td>\n",
       "      <td>156.812958</td>\n",
       "      <td>45992200</td>\n",
       "    </tr>\n",
       "    <tr>\n",
       "      <th>2023-03-29</th>\n",
       "      <td>159.369995</td>\n",
       "      <td>161.050003</td>\n",
       "      <td>159.350006</td>\n",
       "      <td>160.770004</td>\n",
       "      <td>159.916412</td>\n",
       "      <td>51305700</td>\n",
       "    </tr>\n",
       "    <tr>\n",
       "      <th>2023-03-30</th>\n",
       "      <td>161.529999</td>\n",
       "      <td>162.470001</td>\n",
       "      <td>161.270004</td>\n",
       "      <td>162.360001</td>\n",
       "      <td>161.497971</td>\n",
       "      <td>49501700</td>\n",
       "    </tr>\n",
       "    <tr>\n",
       "      <th>2023-03-31</th>\n",
       "      <td>162.440002</td>\n",
       "      <td>165.000000</td>\n",
       "      <td>161.910004</td>\n",
       "      <td>164.899994</td>\n",
       "      <td>164.024475</td>\n",
       "      <td>68749800</td>\n",
       "    </tr>\n",
       "  </tbody>\n",
       "</table>\n",
       "</div>"
      ],
      "text/plain": [
       "                  Open        High         Low       Close   Adj Close  \\\n",
       "Date                                                                     \n",
       "2023-03-07  153.699997  154.029999  151.130005  151.600006  150.795120   \n",
       "2023-03-08  152.809998  153.470001  151.830002  152.869995  152.058365   \n",
       "2023-03-09  153.559998  154.539993  150.229996  150.589996  149.790466   \n",
       "2023-03-10  150.210007  150.940002  147.610001  148.500000  147.711548   \n",
       "2023-03-13  147.809998  153.139999  147.699997  150.470001  149.671112   \n",
       "2023-03-14  151.279999  153.399994  150.100006  152.589996  151.779846   \n",
       "2023-03-15  151.190002  153.250000  149.919998  152.990005  152.177719   \n",
       "2023-03-16  152.160004  156.460007  151.639999  155.850006  155.022537   \n",
       "2023-03-17  156.080002  156.740005  154.279999  155.000000  154.177048   \n",
       "2023-03-20  155.070007  157.820007  154.149994  157.399994  156.564301   \n",
       "2023-03-21  157.320007  159.399994  156.539993  159.279999  158.434326   \n",
       "2023-03-22  159.300003  162.139999  157.809998  157.830002  156.992020   \n",
       "2023-03-23  158.830002  161.550003  157.679993  158.929993  158.086182   \n",
       "2023-03-24  158.860001  160.339996  157.850006  160.250000  159.399170   \n",
       "2023-03-27  159.940002  160.770004  157.869995  158.279999  157.439621   \n",
       "2023-03-28  157.970001  158.490005  155.979996  157.649994  156.812958   \n",
       "2023-03-29  159.369995  161.050003  159.350006  160.770004  159.916412   \n",
       "2023-03-30  161.529999  162.470001  161.270004  162.360001  161.497971   \n",
       "2023-03-31  162.440002  165.000000  161.910004  164.899994  164.024475   \n",
       "\n",
       "              Volume  \n",
       "Date                  \n",
       "2023-03-07  56182000  \n",
       "2023-03-08  47204800  \n",
       "2023-03-09  53833600  \n",
       "2023-03-10  68572400  \n",
       "2023-03-13  84457100  \n",
       "2023-03-14  73695900  \n",
       "2023-03-15  77167900  \n",
       "2023-03-16  76161100  \n",
       "2023-03-17  98944600  \n",
       "2023-03-20  73641400  \n",
       "2023-03-21  73938300  \n",
       "2023-03-22  75701800  \n",
       "2023-03-23  67622100  \n",
       "2023-03-24  59196500  \n",
       "2023-03-27  52390300  \n",
       "2023-03-28  45992200  \n",
       "2023-03-29  51305700  \n",
       "2023-03-30  49501700  \n",
       "2023-03-31  68749800  "
      ]
     },
     "execution_count": 35,
     "metadata": {},
     "output_type": "execute_result"
    }
   ],
   "source": [
    "df.loc[\"2023-03\"]"
   ]
  },
  {
   "cell_type": "markdown",
   "id": "287294e0",
   "metadata": {},
   "source": [
    "## RESAMPLING THE DATA MONTHLY"
   ]
  },
  {
   "cell_type": "code",
   "execution_count": 37,
   "id": "338abf09",
   "metadata": {},
   "outputs": [
    {
     "data": {
      "text/plain": [
       "Date\n",
       "2023-03-31    156.216315\n",
       "2023-04-30    165.045790\n",
       "2023-05-31    172.622728\n",
       "2023-06-30    184.283333\n",
       "2023-07-31    192.411501\n",
       "2023-08-31    181.083913\n",
       "2023-09-30    177.002501\n",
       "2023-10-31    174.668638\n",
       "2023-11-30    185.879523\n",
       "2023-12-31    194.308501\n",
       "2024-01-31    187.724284\n",
       "2024-02-29    184.775501\n",
       "2024-03-31    173.500000\n",
       "Freq: M, Name: Close, dtype: float64"
      ]
     },
     "execution_count": 37,
     "metadata": {},
     "output_type": "execute_result"
    }
   ],
   "source": [
    "df.Close.resample('M').mean()"
   ]
  },
  {
   "cell_type": "code",
   "execution_count": 38,
   "id": "6177bf7e",
   "metadata": {},
   "outputs": [
    {
     "data": {
      "text/plain": [
       "<Axes: xlabel='Date'>"
      ]
     },
     "execution_count": 38,
     "metadata": {},
     "output_type": "execute_result"
    },
    {
     "data": {
      "image/png": "[encoded data removed]",
      "text/plain": [
       "<Figure size 640x480 with 1 Axes>"
      ]
     },
     "metadata": {},
     "output_type": "display_data"
    }
   ],
   "source": [
    "df.Close.resample('M').mean().plot()"
   ]
  },
  {
   "cell_type": "code",
   "execution_count": 40,
   "id": "5d555c27",
   "metadata": {},
   "outputs": [
    {
     "data": {
      "text/plain": [
       "Date\n",
       "2023-03-12    150.889999\n",
       "2023-03-19    153.380002\n",
       "2023-03-26    158.737998\n",
       "2023-04-02    160.791998\n",
       "2023-04-09    165.055001\n",
       "2023-04-16    162.740003\n",
       "2023-04-23    166.200000\n",
       "2023-04-30    166.190000\n",
       "2023-05-07    168.987997\n",
       "2023-05-14    173.030002\n",
       "2023-05-21    173.408005\n",
       "2023-05-28    173.203998\n",
       "2023-06-04    178.897499\n",
       "2023-06-11    179.628006\n",
       "2023-06-18    184.395996\n",
       "2023-06-25    185.662499\n",
       "2023-07-02    189.228000\n",
       "2023-07-09    191.570000\n",
       "2023-07-16    189.538000\n",
       "2023-07-23    193.578003\n",
       "2023-07-30    193.984000\n",
       "2023-08-06    191.560001\n",
       "2023-08-13    178.520001\n",
       "2023-08-20    176.394003\n",
       "2023-08-27    177.835999\n",
       "2023-09-03    185.857999\n",
       "2023-09-10    182.087498\n",
       "2023-09-17    176.124002\n",
       "2023-09-24    176.250000\n",
       "2023-10-01    172.074002\n",
       "2023-10-08    174.442001\n",
       "2023-10-15    179.348004\n",
       "2023-10-22    176.010001\n",
       "2023-10-29    170.530002\n",
       "2023-11-05    173.850000\n",
       "2023-11-12    182.550000\n",
       "2023-11-19    187.930002\n",
       "2023-11-26    190.842499\n",
       "2023-12-03    190.149997\n",
       "2023-12-10    193.030002\n",
       "2023-12-17    196.306003\n",
       "2023-12-24    195.188000\n",
       "2023-12-31    193.077499\n",
       "2024-01-07    183.244999\n",
       "2024-01-14    185.679999\n",
       "2024-01-21    186.625000\n",
       "2024-01-28    194.031998\n",
       "2024-02-04    187.375998\n",
       "2024-02-11    188.712003\n",
       "2024-02-18    184.501996\n",
       "2024-02-25    182.692501\n",
       "2024-03-03    181.124002\n",
       "2024-03-10    171.446665\n",
       "Freq: W-SUN, Name: Close, dtype: float64"
      ]
     },
     "execution_count": 40,
     "metadata": {},
     "output_type": "execute_result"
    }
   ],
   "source": [
    "## weekely frequecy \n",
    "\n",
    "df.Close.resample('w').mean()"
   ]
  },
  {
   "cell_type": "code",
   "execution_count": 44,
   "id": "fe923611",
   "metadata": {},
   "outputs": [
    {
     "data": {
      "text/plain": [
       "<Axes: xlabel='Date'>"
      ]
     },
     "execution_count": 44,
     "metadata": {},
     "output_type": "execute_result"
    },
    {
     "data": {
      "image/png": "[encoded data removed]",
      "text/plain": [
       "<Figure size 640x480 with 1 Axes>"
      ]
     },
     "metadata": {},
     "output_type": "display_data"
    }
   ],
   "source": [
    "\n",
    "#df.Close.resample('w').mean().plot(kind=\"bar\")\n",
    "df.Close.resample('W').mean().plot()"
   ]
  },
  {
   "cell_type": "code",
   "execution_count": 45,
   "id": "2fe6165f",
   "metadata": {},
   "outputs": [
    {
     "data": {
      "text/plain": [
       "<Axes: xlabel='Date'>"
      ]
     },
     "execution_count": 45,
     "metadata": {},
     "output_type": "execute_result"
    },
    {
     "data": {
      "image/png": "[encoded data removed]",
      "text/plain": [
       "<Figure size 640x480 with 1 Axes>"
      ]
     },
     "metadata": {},
     "output_type": "display_data"
    }
   ],
   "source": [
    "#resampling dat Quarterly\n",
    "\n",
    "df.Close.resample(\"Q\").mean().plot()"
   ]
  },
  {
   "cell_type": "code",
   "execution_count": 46,
   "id": "9a97bed1",
   "metadata": {},
   "outputs": [
    {
     "data": {
      "text/plain": [
       "155.176250375"
      ]
     },
     "execution_count": 46,
     "metadata": {},
     "output_type": "execute_result"
    }
   ],
   "source": [
    "df[\"2023-03-12\":\"2023-03-22\"].Close.mean()"
   ]
  },
  {
   "cell_type": "code",
   "execution_count": 47,
   "id": "534d4e15",
   "metadata": {},
   "outputs": [
    {
     "data": {
      "text/plain": [
       "155.176250375"
      ]
     },
     "execution_count": 47,
     "metadata": {},
     "output_type": "execute_result"
    }
   ],
   "source": [
    "df[\"2023-03-12\":\"2023-03-22\"][\"Close\"].mean()"
   ]
  },
  {
   "cell_type": "code",
   "execution_count": 48,
   "id": "5998e9be",
   "metadata": {},
   "outputs": [
    {
     "data": {
      "text/plain": [
       "Date\n",
       "2023-03-13    150.470001\n",
       "2023-03-14    152.589996\n",
       "2023-03-15    152.990005\n",
       "2023-03-16    155.850006\n",
       "2023-03-17    155.000000\n",
       "2023-03-20    157.399994\n",
       "2023-03-21    159.279999\n",
       "2023-03-22    157.830002\n",
       "Name: Close, dtype: float64"
      ]
     },
     "execution_count": 48,
     "metadata": {},
     "output_type": "execute_result"
    }
   ],
   "source": [
    "df[\"2023-03-12\":\"2023-03-22\"][\"Close\"]"
   ]
  },
  {
   "cell_type": "markdown",
   "id": "fd2cc910",
   "metadata": {},
   "source": [
    "# Holiday\n",
    "\n",
    "\n"
   ]
  },
  {
   "cell_type": "code",
   "execution_count": 50,
   "id": "5de42318",
   "metadata": {},
   "outputs": [
    {
     "data": {
      "text/html": [
       "<div>\n",
       "<style scoped>\n",
       "    .dataframe tbody tr th:only-of-type {\n",
       "        vertical-align: middle;\n",
       "    }\n",
       "\n",
       "    .dataframe tbody tr th {\n",
       "        vertical-align: top;\n",
       "    }\n",
       "\n",
       "    .dataframe thead th {\n",
       "        text-align: right;\n",
       "    }\n",
       "</style>\n",
       "<table border=\"1\" class=\"dataframe\">\n",
       "  <thead>\n",
       "    <tr style=\"text-align: right;\">\n",
       "      <th></th>\n",
       "      <th>Date</th>\n",
       "      <th>Open</th>\n",
       "      <th>High</th>\n",
       "      <th>Low</th>\n",
       "      <th>Close</th>\n",
       "      <th>Adj Close</th>\n",
       "      <th>Volume</th>\n",
       "    </tr>\n",
       "  </thead>\n",
       "  <tbody>\n",
       "    <tr>\n",
       "      <th>0</th>\n",
       "      <td>2023-03-07</td>\n",
       "      <td>153.699997</td>\n",
       "      <td>154.029999</td>\n",
       "      <td>151.130005</td>\n",
       "      <td>151.600006</td>\n",
       "      <td>150.795120</td>\n",
       "      <td>56182000</td>\n",
       "    </tr>\n",
       "    <tr>\n",
       "      <th>1</th>\n",
       "      <td>2023-03-08</td>\n",
       "      <td>152.809998</td>\n",
       "      <td>153.470001</td>\n",
       "      <td>151.830002</td>\n",
       "      <td>152.869995</td>\n",
       "      <td>152.058365</td>\n",
       "      <td>47204800</td>\n",
       "    </tr>\n",
       "    <tr>\n",
       "      <th>2</th>\n",
       "      <td>2023-03-09</td>\n",
       "      <td>153.559998</td>\n",
       "      <td>154.539993</td>\n",
       "      <td>150.229996</td>\n",
       "      <td>150.589996</td>\n",
       "      <td>149.790466</td>\n",
       "      <td>53833600</td>\n",
       "    </tr>\n",
       "    <tr>\n",
       "      <th>3</th>\n",
       "      <td>2023-03-10</td>\n",
       "      <td>150.210007</td>\n",
       "      <td>150.940002</td>\n",
       "      <td>147.610001</td>\n",
       "      <td>148.500000</td>\n",
       "      <td>147.711548</td>\n",
       "      <td>68572400</td>\n",
       "    </tr>\n",
       "    <tr>\n",
       "      <th>4</th>\n",
       "      <td>2023-03-13</td>\n",
       "      <td>147.809998</td>\n",
       "      <td>153.139999</td>\n",
       "      <td>147.699997</td>\n",
       "      <td>150.470001</td>\n",
       "      <td>149.671112</td>\n",
       "      <td>84457100</td>\n",
       "    </tr>\n",
       "  </tbody>\n",
       "</table>\n",
       "</div>"
      ],
      "text/plain": [
       "         Date        Open        High         Low       Close   Adj Close  \\\n",
       "0  2023-03-07  153.699997  154.029999  151.130005  151.600006  150.795120   \n",
       "1  2023-03-08  152.809998  153.470001  151.830002  152.869995  152.058365   \n",
       "2  2023-03-09  153.559998  154.539993  150.229996  150.589996  149.790466   \n",
       "3  2023-03-10  150.210007  150.940002  147.610001  148.500000  147.711548   \n",
       "4  2023-03-13  147.809998  153.139999  147.699997  150.470001  149.671112   \n",
       "\n",
       "     Volume  \n",
       "0  56182000  \n",
       "1  47204800  \n",
       "2  53833600  \n",
       "3  68572400  \n",
       "4  84457100  "
      ]
     },
     "execution_count": 50,
     "metadata": {},
     "output_type": "execute_result"
    }
   ],
   "source": [
    "df=pd.read_csv(\"AAPL.csv\")\n",
    "df.head()"
   ]
  },
  {
   "cell_type": "code",
   "execution_count": 52,
   "id": "7dd1c95d",
   "metadata": {},
   "outputs": [],
   "source": [
    "df1=df.drop(\"Date\",axis=1)"
   ]
  },
  {
   "cell_type": "code",
   "execution_count": 53,
   "id": "93a9fd45",
   "metadata": {},
   "outputs": [
    {
     "data": {
      "text/html": [
       "<div>\n",
       "<style scoped>\n",
       "    .dataframe tbody tr th:only-of-type {\n",
       "        vertical-align: middle;\n",
       "    }\n",
       "\n",
       "    .dataframe tbody tr th {\n",
       "        vertical-align: top;\n",
       "    }\n",
       "\n",
       "    .dataframe thead th {\n",
       "        text-align: right;\n",
       "    }\n",
       "</style>\n",
       "<table border=\"1\" class=\"dataframe\">\n",
       "  <thead>\n",
       "    <tr style=\"text-align: right;\">\n",
       "      <th></th>\n",
       "      <th>Open</th>\n",
       "      <th>High</th>\n",
       "      <th>Low</th>\n",
       "      <th>Close</th>\n",
       "      <th>Adj Close</th>\n",
       "      <th>Volume</th>\n",
       "    </tr>\n",
       "  </thead>\n",
       "  <tbody>\n",
       "    <tr>\n",
       "      <th>0</th>\n",
       "      <td>153.699997</td>\n",
       "      <td>154.029999</td>\n",
       "      <td>151.130005</td>\n",
       "      <td>151.600006</td>\n",
       "      <td>150.795120</td>\n",
       "      <td>56182000</td>\n",
       "    </tr>\n",
       "    <tr>\n",
       "      <th>1</th>\n",
       "      <td>152.809998</td>\n",
       "      <td>153.470001</td>\n",
       "      <td>151.830002</td>\n",
       "      <td>152.869995</td>\n",
       "      <td>152.058365</td>\n",
       "      <td>47204800</td>\n",
       "    </tr>\n",
       "    <tr>\n",
       "      <th>2</th>\n",
       "      <td>153.559998</td>\n",
       "      <td>154.539993</td>\n",
       "      <td>150.229996</td>\n",
       "      <td>150.589996</td>\n",
       "      <td>149.790466</td>\n",
       "      <td>53833600</td>\n",
       "    </tr>\n",
       "    <tr>\n",
       "      <th>3</th>\n",
       "      <td>150.210007</td>\n",
       "      <td>150.940002</td>\n",
       "      <td>147.610001</td>\n",
       "      <td>148.500000</td>\n",
       "      <td>147.711548</td>\n",
       "      <td>68572400</td>\n",
       "    </tr>\n",
       "    <tr>\n",
       "      <th>4</th>\n",
       "      <td>147.809998</td>\n",
       "      <td>153.139999</td>\n",
       "      <td>147.699997</td>\n",
       "      <td>150.470001</td>\n",
       "      <td>149.671112</td>\n",
       "      <td>84457100</td>\n",
       "    </tr>\n",
       "  </tbody>\n",
       "</table>\n",
       "</div>"
      ],
      "text/plain": [
       "         Open        High         Low       Close   Adj Close    Volume\n",
       "0  153.699997  154.029999  151.130005  151.600006  150.795120  56182000\n",
       "1  152.809998  153.470001  151.830002  152.869995  152.058365  47204800\n",
       "2  153.559998  154.539993  150.229996  150.589996  149.790466  53833600\n",
       "3  150.210007  150.940002  147.610001  148.500000  147.711548  68572400\n",
       "4  147.809998  153.139999  147.699997  150.470001  149.671112  84457100"
      ]
     },
     "execution_count": 53,
     "metadata": {},
     "output_type": "execute_result"
    }
   ],
   "source": [
    "df1.head()"
   ]
  },
  {
   "cell_type": "code",
   "execution_count": 55,
   "id": "ab7b1f56",
   "metadata": {},
   "outputs": [
    {
     "data": {
      "text/plain": [
       "Open         False\n",
       "High         False\n",
       "Low          False\n",
       "Close        False\n",
       "Adj Close    False\n",
       "Volume       False\n",
       "dtype: bool"
      ]
     },
     "execution_count": 55,
     "metadata": {},
     "output_type": "execute_result"
    }
   ],
   "source": [
    "df1.isnull().any()"
   ]
  },
  {
   "cell_type": "code",
   "execution_count": 56,
   "id": "380cddc9",
   "metadata": {},
   "outputs": [
    {
     "data": {
      "text/html": [
       "<div>\n",
       "<style scoped>\n",
       "    .dataframe tbody tr th:only-of-type {\n",
       "        vertical-align: middle;\n",
       "    }\n",
       "\n",
       "    .dataframe tbody tr th {\n",
       "        vertical-align: top;\n",
       "    }\n",
       "\n",
       "    .dataframe thead th {\n",
       "        text-align: right;\n",
       "    }\n",
       "</style>\n",
       "<table border=\"1\" class=\"dataframe\">\n",
       "  <thead>\n",
       "    <tr style=\"text-align: right;\">\n",
       "      <th></th>\n",
       "      <th>Open</th>\n",
       "      <th>High</th>\n",
       "      <th>Low</th>\n",
       "      <th>Close</th>\n",
       "      <th>Adj Close</th>\n",
       "      <th>Volume</th>\n",
       "    </tr>\n",
       "  </thead>\n",
       "  <tbody>\n",
       "    <tr>\n",
       "      <th>0</th>\n",
       "      <td>153.699997</td>\n",
       "      <td>154.029999</td>\n",
       "      <td>151.130005</td>\n",
       "      <td>151.600006</td>\n",
       "      <td>150.795120</td>\n",
       "      <td>56182000</td>\n",
       "    </tr>\n",
       "    <tr>\n",
       "      <th>1</th>\n",
       "      <td>152.809998</td>\n",
       "      <td>153.470001</td>\n",
       "      <td>151.830002</td>\n",
       "      <td>152.869995</td>\n",
       "      <td>152.058365</td>\n",
       "      <td>47204800</td>\n",
       "    </tr>\n",
       "    <tr>\n",
       "      <th>2</th>\n",
       "      <td>153.559998</td>\n",
       "      <td>154.539993</td>\n",
       "      <td>150.229996</td>\n",
       "      <td>150.589996</td>\n",
       "      <td>149.790466</td>\n",
       "      <td>53833600</td>\n",
       "    </tr>\n",
       "    <tr>\n",
       "      <th>3</th>\n",
       "      <td>150.210007</td>\n",
       "      <td>150.940002</td>\n",
       "      <td>147.610001</td>\n",
       "      <td>148.500000</td>\n",
       "      <td>147.711548</td>\n",
       "      <td>68572400</td>\n",
       "    </tr>\n",
       "    <tr>\n",
       "      <th>4</th>\n",
       "      <td>147.809998</td>\n",
       "      <td>153.139999</td>\n",
       "      <td>147.699997</td>\n",
       "      <td>150.470001</td>\n",
       "      <td>149.671112</td>\n",
       "      <td>84457100</td>\n",
       "    </tr>\n",
       "    <tr>\n",
       "      <th>...</th>\n",
       "      <td>...</td>\n",
       "      <td>...</td>\n",
       "      <td>...</td>\n",
       "      <td>...</td>\n",
       "      <td>...</td>\n",
       "      <td>...</td>\n",
       "    </tr>\n",
       "    <tr>\n",
       "      <th>247</th>\n",
       "      <td>181.270004</td>\n",
       "      <td>182.570007</td>\n",
       "      <td>179.529999</td>\n",
       "      <td>180.750000</td>\n",
       "      <td>180.750000</td>\n",
       "      <td>136682600</td>\n",
       "    </tr>\n",
       "    <tr>\n",
       "      <th>248</th>\n",
       "      <td>179.550003</td>\n",
       "      <td>180.529999</td>\n",
       "      <td>177.380005</td>\n",
       "      <td>179.660004</td>\n",
       "      <td>179.660004</td>\n",
       "      <td>73488000</td>\n",
       "    </tr>\n",
       "    <tr>\n",
       "      <th>249</th>\n",
       "      <td>176.149994</td>\n",
       "      <td>176.899994</td>\n",
       "      <td>173.789993</td>\n",
       "      <td>175.100006</td>\n",
       "      <td>175.100006</td>\n",
       "      <td>81510100</td>\n",
       "    </tr>\n",
       "    <tr>\n",
       "      <th>250</th>\n",
       "      <td>170.759995</td>\n",
       "      <td>172.039993</td>\n",
       "      <td>169.619995</td>\n",
       "      <td>170.119995</td>\n",
       "      <td>170.119995</td>\n",
       "      <td>95132400</td>\n",
       "    </tr>\n",
       "    <tr>\n",
       "      <th>251</th>\n",
       "      <td>171.059998</td>\n",
       "      <td>171.210007</td>\n",
       "      <td>168.679993</td>\n",
       "      <td>169.119995</td>\n",
       "      <td>169.119995</td>\n",
       "      <td>67638518</td>\n",
       "    </tr>\n",
       "  </tbody>\n",
       "</table>\n",
       "<p>252 rows × 6 columns</p>\n",
       "</div>"
      ],
      "text/plain": [
       "           Open        High         Low       Close   Adj Close     Volume\n",
       "0    153.699997  154.029999  151.130005  151.600006  150.795120   56182000\n",
       "1    152.809998  153.470001  151.830002  152.869995  152.058365   47204800\n",
       "2    153.559998  154.539993  150.229996  150.589996  149.790466   53833600\n",
       "3    150.210007  150.940002  147.610001  148.500000  147.711548   68572400\n",
       "4    147.809998  153.139999  147.699997  150.470001  149.671112   84457100\n",
       "..          ...         ...         ...         ...         ...        ...\n",
       "247  181.270004  182.570007  179.529999  180.750000  180.750000  136682600\n",
       "248  179.550003  180.529999  177.380005  179.660004  179.660004   73488000\n",
       "249  176.149994  176.899994  173.789993  175.100006  175.100006   81510100\n",
       "250  170.759995  172.039993  169.619995  170.119995  170.119995   95132400\n",
       "251  171.059998  171.210007  168.679993  169.119995  169.119995   67638518\n",
       "\n",
       "[252 rows x 6 columns]"
      ]
     },
     "execution_count": 56,
     "metadata": {},
     "output_type": "execute_result"
    }
   ],
   "source": [
    "d1f.fillna(df.mean())"
   ]
  },
  {
   "cell_type": "code",
   "execution_count": 57,
   "id": "0e9565ac",
   "metadata": {},
   "outputs": [],
   "source": [
    "## Date time format\n",
    "d =\"2024-04-01\"\n",
    "\n"
   ]
  },
  {
   "cell_type": "code",
   "execution_count": 59,
   "id": "2bab6509",
   "metadata": {},
   "outputs": [],
   "source": [
    "import datetime"
   ]
  },
  {
   "cell_type": "code",
   "execution_count": 65,
   "id": "decdd195",
   "metadata": {},
   "outputs": [
    {
     "data": {
      "text/plain": [
       "Timestamp('2024-04-01 00:00:00')"
      ]
     },
     "execution_count": 65,
     "metadata": {},
     "output_type": "execute_result"
    }
   ],
   "source": [
    "pd.to_datetime(d, format=\"%Y-%m-%d\")\n"
   ]
  },
  {
   "cell_type": "markdown",
   "id": "e2d6f28b",
   "metadata": {},
   "source": [
    "# Period and Perio dIndex"
   ]
  },
  {
   "cell_type": "code",
   "execution_count": 68,
   "id": "b468821f",
   "metadata": {},
   "outputs": [],
   "source": [
    "y=pd.Period('2023')"
   ]
  },
  {
   "cell_type": "code",
   "execution_count": 69,
   "id": "a078becd",
   "metadata": {},
   "outputs": [
    {
     "data": {
      "text/plain": [
       "Period('2023', 'A-DEC')"
      ]
     },
     "execution_count": 69,
     "metadata": {},
     "output_type": "execute_result"
    }
   ],
   "source": [
    "y"
   ]
  },
  {
   "cell_type": "code",
   "execution_count": 71,
   "id": "3d1bcf16",
   "metadata": {},
   "outputs": [
    {
     "data": {
      "text/plain": [
       "Timestamp('2023-01-01 00:00:00')"
      ]
     },
     "execution_count": 71,
     "metadata": {},
     "output_type": "execute_result"
    }
   ],
   "source": [
    "y.start_time"
   ]
  },
  {
   "cell_type": "code",
   "execution_count": 72,
   "id": "f92c95ad",
   "metadata": {},
   "outputs": [
    {
     "data": {
      "text/plain": [
       "Timestamp('2023-12-31 23:59:59.999999999')"
      ]
     },
     "execution_count": 72,
     "metadata": {},
     "output_type": "execute_result"
    }
   ],
   "source": [
    "y.end_time"
   ]
  },
  {
   "cell_type": "code",
   "execution_count": 73,
   "id": "ff73969b",
   "metadata": {},
   "outputs": [],
   "source": [
    "m=pd.Period('2016-12',freq='M')"
   ]
  },
  {
   "cell_type": "code",
   "execution_count": 74,
   "id": "13c7e40b",
   "metadata": {},
   "outputs": [
    {
     "data": {
      "text/plain": [
       "Period('2017-01', 'M')"
      ]
     },
     "execution_count": 74,
     "metadata": {},
     "output_type": "execute_result"
    }
   ],
   "source": [
    "m+1"
   ]
  },
  {
   "cell_type": "markdown",
   "id": "252efde7",
   "metadata": {},
   "source": [
    "# SHIFT IN A DATABASE"
   ]
  },
  {
   "cell_type": "code",
   "execution_count": 76,
   "id": "a097a676",
   "metadata": {},
   "outputs": [
    {
     "data": {
      "text/html": [
       "<div>\n",
       "<style scoped>\n",
       "    .dataframe tbody tr th:only-of-type {\n",
       "        vertical-align: middle;\n",
       "    }\n",
       "\n",
       "    .dataframe tbody tr th {\n",
       "        vertical-align: top;\n",
       "    }\n",
       "\n",
       "    .dataframe thead th {\n",
       "        text-align: right;\n",
       "    }\n",
       "</style>\n",
       "<table border=\"1\" class=\"dataframe\">\n",
       "  <thead>\n",
       "    <tr style=\"text-align: right;\">\n",
       "      <th></th>\n",
       "      <th>Open</th>\n",
       "      <th>High</th>\n",
       "      <th>Low</th>\n",
       "      <th>Close</th>\n",
       "      <th>Adj Close</th>\n",
       "      <th>Volume</th>\n",
       "    </tr>\n",
       "    <tr>\n",
       "      <th>Date</th>\n",
       "      <th></th>\n",
       "      <th></th>\n",
       "      <th></th>\n",
       "      <th></th>\n",
       "      <th></th>\n",
       "      <th></th>\n",
       "    </tr>\n",
       "  </thead>\n",
       "  <tbody>\n",
       "    <tr>\n",
       "      <th>2023-03-07</th>\n",
       "      <td>153.699997</td>\n",
       "      <td>154.029999</td>\n",
       "      <td>151.130005</td>\n",
       "      <td>151.600006</td>\n",
       "      <td>150.795120</td>\n",
       "      <td>56182000</td>\n",
       "    </tr>\n",
       "    <tr>\n",
       "      <th>2023-03-08</th>\n",
       "      <td>152.809998</td>\n",
       "      <td>153.470001</td>\n",
       "      <td>151.830002</td>\n",
       "      <td>152.869995</td>\n",
       "      <td>152.058365</td>\n",
       "      <td>47204800</td>\n",
       "    </tr>\n",
       "    <tr>\n",
       "      <th>2023-03-09</th>\n",
       "      <td>153.559998</td>\n",
       "      <td>154.539993</td>\n",
       "      <td>150.229996</td>\n",
       "      <td>150.589996</td>\n",
       "      <td>149.790466</td>\n",
       "      <td>53833600</td>\n",
       "    </tr>\n",
       "    <tr>\n",
       "      <th>2023-03-10</th>\n",
       "      <td>150.210007</td>\n",
       "      <td>150.940002</td>\n",
       "      <td>147.610001</td>\n",
       "      <td>148.500000</td>\n",
       "      <td>147.711548</td>\n",
       "      <td>68572400</td>\n",
       "    </tr>\n",
       "    <tr>\n",
       "      <th>2023-03-13</th>\n",
       "      <td>147.809998</td>\n",
       "      <td>153.139999</td>\n",
       "      <td>147.699997</td>\n",
       "      <td>150.470001</td>\n",
       "      <td>149.671112</td>\n",
       "      <td>84457100</td>\n",
       "    </tr>\n",
       "  </tbody>\n",
       "</table>\n",
       "</div>"
      ],
      "text/plain": [
       "                  Open        High         Low       Close   Adj Close  \\\n",
       "Date                                                                     \n",
       "2023-03-07  153.699997  154.029999  151.130005  151.600006  150.795120   \n",
       "2023-03-08  152.809998  153.470001  151.830002  152.869995  152.058365   \n",
       "2023-03-09  153.559998  154.539993  150.229996  150.589996  149.790466   \n",
       "2023-03-10  150.210007  150.940002  147.610001  148.500000  147.711548   \n",
       "2023-03-13  147.809998  153.139999  147.699997  150.470001  149.671112   \n",
       "\n",
       "              Volume  \n",
       "Date                  \n",
       "2023-03-07  56182000  \n",
       "2023-03-08  47204800  \n",
       "2023-03-09  53833600  \n",
       "2023-03-10  68572400  \n",
       "2023-03-13  84457100  "
      ]
     },
     "execution_count": 76,
     "metadata": {},
     "output_type": "execute_result"
    }
   ],
   "source": [
    "df=pd.read_csv(\"AAPL.csv\", parse_dates=['Date'],index_col=\"Date\")\n",
    "df.head()"
   ]
  },
  {
   "cell_type": "code",
   "execution_count": null,
   "id": "57d5fd19",
   "metadata": {},
   "outputs": [],
   "source": []
  },
  {
   "cell_type": "code",
   "execution_count": 89,
   "id": "8bd795a9",
   "metadata": {},
   "outputs": [
    {
     "data": {
      "text/html": [
       "<div>\n",
       "<style scoped>\n",
       "    .dataframe tbody tr th:only-of-type {\n",
       "        vertical-align: middle;\n",
       "    }\n",
       "\n",
       "    .dataframe tbody tr th {\n",
       "        vertical-align: top;\n",
       "    }\n",
       "\n",
       "    .dataframe thead th {\n",
       "        text-align: right;\n",
       "    }\n",
       "</style>\n",
       "<table border=\"1\" class=\"dataframe\">\n",
       "  <thead>\n",
       "    <tr style=\"text-align: right;\">\n",
       "      <th></th>\n",
       "      <th>Open</th>\n",
       "    </tr>\n",
       "    <tr>\n",
       "      <th>Date</th>\n",
       "      <th></th>\n",
       "    </tr>\n",
       "  </thead>\n",
       "  <tbody>\n",
       "    <tr>\n",
       "      <th>2023-03-07</th>\n",
       "      <td>153.699997</td>\n",
       "    </tr>\n",
       "    <tr>\n",
       "      <th>2023-03-08</th>\n",
       "      <td>152.809998</td>\n",
       "    </tr>\n",
       "    <tr>\n",
       "      <th>2023-03-09</th>\n",
       "      <td>153.559998</td>\n",
       "    </tr>\n",
       "    <tr>\n",
       "      <th>2023-03-10</th>\n",
       "      <td>150.210007</td>\n",
       "    </tr>\n",
       "    <tr>\n",
       "      <th>2023-03-13</th>\n",
       "      <td>147.809998</td>\n",
       "    </tr>\n",
       "  </tbody>\n",
       "</table>\n",
       "</div>"
      ],
      "text/plain": [
       "                  Open\n",
       "Date                  \n",
       "2023-03-07  153.699997\n",
       "2023-03-08  152.809998\n",
       "2023-03-09  153.559998\n",
       "2023-03-10  150.210007\n",
       "2023-03-13  147.809998"
      ]
     },
     "execution_count": 89,
     "metadata": {},
     "output_type": "execute_result"
    }
   ],
   "source": [
    "df=df[[\"Open\"]]\n",
    "df.head()"
   ]
  },
  {
   "cell_type": "code",
   "execution_count": 90,
   "id": "fea11d79",
   "metadata": {},
   "outputs": [],
   "source": [
    "##applying shift in a new col\n",
    "\n",
    "df[\"previous_day_prices\"]=df['Open'].shift(1)"
   ]
  },
  {
   "cell_type": "code",
   "execution_count": 91,
   "id": "9a15486d",
   "metadata": {},
   "outputs": [
    {
     "data": {
      "text/html": [
       "<div>\n",
       "<style scoped>\n",
       "    .dataframe tbody tr th:only-of-type {\n",
       "        vertical-align: middle;\n",
       "    }\n",
       "\n",
       "    .dataframe tbody tr th {\n",
       "        vertical-align: top;\n",
       "    }\n",
       "\n",
       "    .dataframe thead th {\n",
       "        text-align: right;\n",
       "    }\n",
       "</style>\n",
       "<table border=\"1\" class=\"dataframe\">\n",
       "  <thead>\n",
       "    <tr style=\"text-align: right;\">\n",
       "      <th></th>\n",
       "      <th>Open</th>\n",
       "      <th>previous_day_prices</th>\n",
       "    </tr>\n",
       "    <tr>\n",
       "      <th>Date</th>\n",
       "      <th></th>\n",
       "      <th></th>\n",
       "    </tr>\n",
       "  </thead>\n",
       "  <tbody>\n",
       "    <tr>\n",
       "      <th>2023-03-07</th>\n",
       "      <td>153.699997</td>\n",
       "      <td>NaN</td>\n",
       "    </tr>\n",
       "    <tr>\n",
       "      <th>2023-03-08</th>\n",
       "      <td>152.809998</td>\n",
       "      <td>153.699997</td>\n",
       "    </tr>\n",
       "    <tr>\n",
       "      <th>2023-03-09</th>\n",
       "      <td>153.559998</td>\n",
       "      <td>152.809998</td>\n",
       "    </tr>\n",
       "    <tr>\n",
       "      <th>2023-03-10</th>\n",
       "      <td>150.210007</td>\n",
       "      <td>153.559998</td>\n",
       "    </tr>\n",
       "    <tr>\n",
       "      <th>2023-03-13</th>\n",
       "      <td>147.809998</td>\n",
       "      <td>150.210007</td>\n",
       "    </tr>\n",
       "  </tbody>\n",
       "</table>\n",
       "</div>"
      ],
      "text/plain": [
       "                  Open  previous_day_prices\n",
       "Date                                       \n",
       "2023-03-07  153.699997                  NaN\n",
       "2023-03-08  152.809998           153.699997\n",
       "2023-03-09  153.559998           152.809998\n",
       "2023-03-10  150.210007           153.559998\n",
       "2023-03-13  147.809998           150.210007"
      ]
     },
     "execution_count": 91,
     "metadata": {},
     "output_type": "execute_result"
    }
   ],
   "source": [
    "df.head()"
   ]
  },
  {
   "cell_type": "code",
   "execution_count": 95,
   "id": "5826ca3f",
   "metadata": {},
   "outputs": [],
   "source": [
    "df[\"price change in one day\"]= df[\"Open\"]-df[\"previous_day_prices\"]"
   ]
  },
  {
   "cell_type": "code",
   "execution_count": 97,
   "id": "4be0100e",
   "metadata": {},
   "outputs": [
    {
     "data": {
      "text/html": [
       "<div>\n",
       "<style scoped>\n",
       "    .dataframe tbody tr th:only-of-type {\n",
       "        vertical-align: middle;\n",
       "    }\n",
       "\n",
       "    .dataframe tbody tr th {\n",
       "        vertical-align: top;\n",
       "    }\n",
       "\n",
       "    .dataframe thead th {\n",
       "        text-align: right;\n",
       "    }\n",
       "</style>\n",
       "<table border=\"1\" class=\"dataframe\">\n",
       "  <thead>\n",
       "    <tr style=\"text-align: right;\">\n",
       "      <th></th>\n",
       "      <th>Open</th>\n",
       "      <th>previous_day_prices</th>\n",
       "      <th>price change in one day</th>\n",
       "    </tr>\n",
       "    <tr>\n",
       "      <th>Date</th>\n",
       "      <th></th>\n",
       "      <th></th>\n",
       "      <th></th>\n",
       "    </tr>\n",
       "  </thead>\n",
       "  <tbody>\n",
       "    <tr>\n",
       "      <th>2023-03-07</th>\n",
       "      <td>153.699997</td>\n",
       "      <td>NaN</td>\n",
       "      <td>NaN</td>\n",
       "    </tr>\n",
       "    <tr>\n",
       "      <th>2023-03-08</th>\n",
       "      <td>152.809998</td>\n",
       "      <td>153.699997</td>\n",
       "      <td>-0.889999</td>\n",
       "    </tr>\n",
       "    <tr>\n",
       "      <th>2023-03-09</th>\n",
       "      <td>153.559998</td>\n",
       "      <td>152.809998</td>\n",
       "      <td>0.750000</td>\n",
       "    </tr>\n",
       "    <tr>\n",
       "      <th>2023-03-10</th>\n",
       "      <td>150.210007</td>\n",
       "      <td>153.559998</td>\n",
       "      <td>-3.349991</td>\n",
       "    </tr>\n",
       "    <tr>\n",
       "      <th>2023-03-13</th>\n",
       "      <td>147.809998</td>\n",
       "      <td>150.210007</td>\n",
       "      <td>-2.400009</td>\n",
       "    </tr>\n",
       "    <tr>\n",
       "      <th>2023-03-14</th>\n",
       "      <td>151.279999</td>\n",
       "      <td>147.809998</td>\n",
       "      <td>3.470001</td>\n",
       "    </tr>\n",
       "    <tr>\n",
       "      <th>2023-03-15</th>\n",
       "      <td>151.190002</td>\n",
       "      <td>151.279999</td>\n",
       "      <td>-0.089997</td>\n",
       "    </tr>\n",
       "    <tr>\n",
       "      <th>2023-03-16</th>\n",
       "      <td>152.160004</td>\n",
       "      <td>151.190002</td>\n",
       "      <td>0.970002</td>\n",
       "    </tr>\n",
       "    <tr>\n",
       "      <th>2023-03-17</th>\n",
       "      <td>156.080002</td>\n",
       "      <td>152.160004</td>\n",
       "      <td>3.919998</td>\n",
       "    </tr>\n",
       "    <tr>\n",
       "      <th>2023-03-20</th>\n",
       "      <td>155.070007</td>\n",
       "      <td>156.080002</td>\n",
       "      <td>-1.009995</td>\n",
       "    </tr>\n",
       "  </tbody>\n",
       "</table>\n",
       "</div>"
      ],
      "text/plain": [
       "                  Open  previous_day_prices  price change in one day\n",
       "Date                                                                \n",
       "2023-03-07  153.699997                  NaN                      NaN\n",
       "2023-03-08  152.809998           153.699997                -0.889999\n",
       "2023-03-09  153.559998           152.809998                 0.750000\n",
       "2023-03-10  150.210007           153.559998                -3.349991\n",
       "2023-03-13  147.809998           150.210007                -2.400009\n",
       "2023-03-14  151.279999           147.809998                 3.470001\n",
       "2023-03-15  151.190002           151.279999                -0.089997\n",
       "2023-03-16  152.160004           151.190002                 0.970002\n",
       "2023-03-17  156.080002           152.160004                 3.919998\n",
       "2023-03-20  155.070007           156.080002                -1.009995"
      ]
     },
     "execution_count": 97,
     "metadata": {},
     "output_type": "execute_result"
    }
   ],
   "source": [
    "df.head(10)"
   ]
  },
  {
   "cell_type": "markdown",
   "id": "9b813729",
   "metadata": {},
   "source": [
    "#  Practicing Hacker rannk Question"
   ]
  },
  {
   "cell_type": "markdown",
   "id": "6678beff",
   "metadata": {},
   "source": [
    "###  QUESTION1 \n",
    "\n",
    "\n",
    "\n",
    "\n",
    "- Your task is to print the company name and the date the company's maximum price occurs on.\n",
    "- This should be in the format: \"company,name date\"\n",
    "- The output should be printed in alphabetical order on the company name.\n",
    "- This can be completed using Pandas or standard\n",
    "\n",
    "\n",
    "\n"
   ]
  },
  {
   "cell_type": "code",
   "execution_count": 98,
   "id": "9dcf572c",
   "metadata": {},
   "outputs": [],
   "source": [
    "# Sample input data\n",
    "data = [\n",
    "    ('2022-01-01', 'Google', 100.0),\n",
    "    ('2022-01-31', 'Google', 102.0),\n",
    "    ('2021-05-01', 'Microsoft', 404.8),\n",
    "    ('2021-05-17', 'Microsoft', 401.1)\n",
    "]"
   ]
  },
  {
   "cell_type": "code",
   "execution_count": 99,
   "id": "d98568a4",
   "metadata": {},
   "outputs": [],
   "source": [
    "df = pd.DataFrame(data, columns=['Date', 'Company', 'Price'])"
   ]
  },
  {
   "cell_type": "code",
   "execution_count": 100,
   "id": "68c8c59a",
   "metadata": {},
   "outputs": [],
   "source": [
    "df=pd.DataFrame(data,columns=[\"Date\",\"Company\",\"Price\"])"
   ]
  },
  {
   "cell_type": "code",
   "execution_count": 101,
   "id": "7712726f",
   "metadata": {},
   "outputs": [],
   "source": [
    "df['Date']=pd.to_datetime(df['Date'])"
   ]
  },
  {
   "cell_type": "code",
   "execution_count": 107,
   "id": "65cd40d6",
   "metadata": {},
   "outputs": [],
   "source": [
    "max_price_index_per_company = df.groupby('Company')['Price'].idxmax()"
   ]
  },
  {
   "cell_type": "code",
   "execution_count": 111,
   "id": "e57f2ee7",
   "metadata": {},
   "outputs": [
    {
     "data": {
      "text/plain": [
       "Company\n",
       "Google       1\n",
       "Microsoft    2\n",
       "Name: Price, dtype: int64"
      ]
     },
     "execution_count": 111,
     "metadata": {},
     "output_type": "execute_result"
    }
   ],
   "source": [
    "max_price_index_per_company.head()"
   ]
  },
  {
   "cell_type": "code",
   "execution_count": 120,
   "id": "e84f7b67",
   "metadata": {},
   "outputs": [],
   "source": [
    "df2=df.loc[max_price_index_per_company]"
   ]
  },
  {
   "cell_type": "code",
   "execution_count": 121,
   "id": "bc2b4aa4",
   "metadata": {},
   "outputs": [
    {
     "data": {
      "text/html": [
       "<div>\n",
       "<style scoped>\n",
       "    .dataframe tbody tr th:only-of-type {\n",
       "        vertical-align: middle;\n",
       "    }\n",
       "\n",
       "    .dataframe tbody tr th {\n",
       "        vertical-align: top;\n",
       "    }\n",
       "\n",
       "    .dataframe thead th {\n",
       "        text-align: right;\n",
       "    }\n",
       "</style>\n",
       "<table border=\"1\" class=\"dataframe\">\n",
       "  <thead>\n",
       "    <tr style=\"text-align: right;\">\n",
       "      <th></th>\n",
       "      <th>Company</th>\n",
       "      <th>Price</th>\n",
       "    </tr>\n",
       "  </thead>\n",
       "  <tbody>\n",
       "    <tr>\n",
       "      <th>1</th>\n",
       "      <td>Google</td>\n",
       "      <td>102.0</td>\n",
       "    </tr>\n",
       "    <tr>\n",
       "      <th>2</th>\n",
       "      <td>Microsoft</td>\n",
       "      <td>404.8</td>\n",
       "    </tr>\n",
       "  </tbody>\n",
       "</table>\n",
       "</div>"
      ],
      "text/plain": [
       "     Company  Price\n",
       "1     Google  102.0\n",
       "2  Microsoft  404.8"
      ]
     },
     "execution_count": 121,
     "metadata": {},
     "output_type": "execute_result"
    }
   ],
   "source": [
    "df2.head()"
   ]
  },
  {
   "cell_type": "code",
   "execution_count": 122,
   "id": "2b8f48d3",
   "metadata": {},
   "outputs": [],
   "source": [
    "df2=df2.sort_values(by='Company')"
   ]
  },
  {
   "cell_type": "code",
   "execution_count": 123,
   "id": "bc64e730",
   "metadata": {},
   "outputs": [],
   "source": [
    "df2=df2[[\"Company\",\"Price\"]]"
   ]
  },
  {
   "cell_type": "code",
   "execution_count": 124,
   "id": "d183ac00",
   "metadata": {},
   "outputs": [
    {
     "data": {
      "text/html": [
       "<div>\n",
       "<style scoped>\n",
       "    .dataframe tbody tr th:only-of-type {\n",
       "        vertical-align: middle;\n",
       "    }\n",
       "\n",
       "    .dataframe tbody tr th {\n",
       "        vertical-align: top;\n",
       "    }\n",
       "\n",
       "    .dataframe thead th {\n",
       "        text-align: right;\n",
       "    }\n",
       "</style>\n",
       "<table border=\"1\" class=\"dataframe\">\n",
       "  <thead>\n",
       "    <tr style=\"text-align: right;\">\n",
       "      <th></th>\n",
       "      <th>Company</th>\n",
       "      <th>Price</th>\n",
       "    </tr>\n",
       "  </thead>\n",
       "  <tbody>\n",
       "    <tr>\n",
       "      <th>1</th>\n",
       "      <td>Google</td>\n",
       "      <td>102.0</td>\n",
       "    </tr>\n",
       "    <tr>\n",
       "      <th>2</th>\n",
       "      <td>Microsoft</td>\n",
       "      <td>404.8</td>\n",
       "    </tr>\n",
       "  </tbody>\n",
       "</table>\n",
       "</div>"
      ],
      "text/plain": [
       "     Company  Price\n",
       "1     Google  102.0\n",
       "2  Microsoft  404.8"
      ]
     },
     "execution_count": 124,
     "metadata": {},
     "output_type": "execute_result"
    }
   ],
   "source": [
    "df2"
   ]
  },
  {
   "cell_type": "markdown",
   "id": "acaab795",
   "metadata": {},
   "source": [
    "##  Question 2 "
   ]
  },
  {
   "cell_type": "code",
   "execution_count": null,
   "id": "b1af1115",
   "metadata": {},
   "outputs": [],
   "source": [
    "### "
   ]
  },
  {
   "cell_type": "code",
   "execution_count": 125,
   "id": "cefc1535",
   "metadata": {},
   "outputs": [],
   "source": [
    "# read input from STDIN\n",
    "data = \"\"\"2013-01-03,MSFT,341.62,0\n",
    "2013-01-03,MSFT,341.62,1\n",
    "2013-01-03,MSFT,341.63,2\n",
    "2013-01-04,MSFT,345.23,0\n",
    "2013-01-04,MSFT,345.25,1\n",
    "2013-01-04,MSFT,345.25,2\n",
    "2013-01-07,MSFT,344.89,0\n",
    "2013-01-07,MSFT,344.88,1\n",
    "2013-01-07,MSFT,344.90,2\n",
    "2013-01-08,MSFT,344.91,0\n",
    "2013-01-08,MSFT,344.92,-\n",
    "2013-01-08,MSFT,344.90,2\n",
    "2013-01-03,AAPL,509.16,0\n",
    "2013-01-03,AAPL,509.17,1\n",
    "2013-01-03,AAPL,509.18,2\n",
    "2013-01-04,AAPL,517.45,0\n",
    "2013-01-04,AAPL,517.45,1\n",
    "2013-01-04,AAPL,517.47,2\n",
    "2013-01-07,AAPL,520.43,0\n",
    "2013-01-07,AAPL,520.43,1\n",
    "2013-01-07,AAPL,520.42,2\n",
    "2013-01-08,AAPL,527.28,0\n",
    "2013-01-08,AAPL,527.29,1\n",
    "2013-01-08,AAPL,527.29,2\"\"\""
   ]
  },
  {
   "cell_type": "code",
   "execution_count": 126,
   "id": "2e00810c",
   "metadata": {},
   "outputs": [],
   "source": [
    "import sys\n",
    "\n",
    "def determine_price(group):\n",
    "    unique_prices = group['price'].unique()\n",
    "    len_unique_prices = len(unique_prices)\n",
    "    if len_unique_prices == 1:\n",
    "        return unique_prices[0]\n",
    "    if len_unique_prices == 3:\n",
    "        return group[group['source_id'] == group['source_id'].min()]['price'].iloc[0]\n",
    "    return group[\"price\"].mode()[0]"
   ]
  },
  {
   "cell_type": "code",
   "execution_count": null,
   "id": "6ce8120a",
   "metadata": {},
   "outputs": [],
   "source": [
    "df = pd.read_csv(pd.compat.StringIO(data), names=['date', 'ticker', 'price', 'source_id'], parse_dates=['date'])\n",
    "\n",
    "# Group by date and ticker, then apply the determine_price function\n",
    "output_df = df.groupby([\"date\", \"ticker\"]).apply(determine_price).reset_index()\n",
    "output_df.columns = [\"date\", \"ticker\", \"price\"]\n",
    "output_df = output_df.sort_values(by=[\"ticker\", \"date\"])\n",
    "\n",
    "# print output to STDOUT\n",
    "output_df.to_csv(sys.stdout, header=False, index=False)"
   ]
  }
 ],
 "metadata": {
  "kernelspec": {
   "display_name": "Python 3 (ipykernel)",
   "language": "python",
   "name": "python3"
  },
  "language_info": {
   "codemirror_mode": {
    "name": "ipython",
    "version": 3
   },
   "file_extension": ".py",
   "mimetype": "text/x-python",
   "name": "python",
   "nbconvert_exporter": "python",
   "pygments_lexer": "ipython3",
   "version": "3.11.5"
  }
 },
 "nbformat": 4,
 "nbformat_minor": 5
}
