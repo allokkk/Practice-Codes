{
 "cells": [
  {
   "cell_type": "markdown",
   "id": "2c22ac02",
   "metadata": {},
   "source": [
    "# Practice ML Algorithms for Interview Preparation"
   ]
  },
  {
   "cell_type": "markdown",
   "id": "71dfa3b2",
   "metadata": {},
   "source": [
    "\n",
    "List of algorithms you might be asked to implement without relying on libraries like scikit-learn:\n",
    "\n",
    "\n",
    "- K-Means Clustering: Implementing the K-Means clustering algorithm for unsupervised learning.\n",
    "- Linear Regression: Implementing simple linear regression and perhaps extending it to multiple linear regression.\n",
    "- Logistic Regression: Implementing logistic regression for binary classification problems.\n",
    "\n",
    "- Decision Trees: Implementing decision tree algorithms for both classification and regression problems.\n",
    "- Random Forest: Extending decision trees to implement the random forest ensemble method.\n",
    "- Gradient Boosting Machines (GBM): Implementing basic gradient boosting algorithms such as AdaBoost or gradient boosting from scratch.\n",
    "- K-Nearest Neighbors (KNN): Implementing the KNN algorithm for both classification and regression.\n",
    "- Principal Component Analysis (PCA): Implementing PCA for dimensionality reduction.\n",
    "- Naive Bayes: Implementing Naive Bayes for classification tasks.\n",
    "- Support Vector Machines (SVM): Implementing SVM for binary classification problems.\n"
   ]
  },
  {
   "cell_type": "markdown",
   "id": "04b1a096",
   "metadata": {},
   "source": [
    "# 1. KNN Algorithm\n",
    "link: https://www.geeksforgeeks.org/k-nearest-neighbours/"
   ]
  },
  {
   "cell_type": "markdown",
   "id": "d9c51116",
   "metadata": {},
   "source": []
  },
  {
   "cell_type": "code",
   "execution_count": 96,
   "id": "7544718b",
   "metadata": {},
   "outputs": [],
   "source": [
    "import numpy as np\n",
    "import matplotlib.pyplot as plt\n",
    "import pandas as pd\n",
    "from matplotlib import pyplot\n",
    "from pandas import DataFrame"
   ]
  },
  {
   "cell_type": "code",
   "execution_count": 97,
   "id": "0fde4581",
   "metadata": {},
   "outputs": [],
   "source": [
    "#ecludian distance formula\n",
    "def eclu_dist(a1,a2):\n",
    "    return np.sum((a1-a2)**2)**0.5"
   ]
  },
  {
   "cell_type": "code",
   "execution_count": 98,
   "id": "bb9cb299",
   "metadata": {},
   "outputs": [
    {
     "name": "stdout",
     "output_type": "stream",
     "text": [
      "Distance between point1 and point2: 4.242640687119285\n",
      "Distance between point1 and point3: 5.385164807134504\n",
      "Distance between point1 and point4: 7.0710678118654755\n"
     ]
    }
   ],
   "source": [
    "# Define some hypothetical points\n",
    "point1 = np.array([1, 2])\n",
    "point2 = np.array([4, 5])\n",
    "point3 = np.array([2, 2, 2])\n",
    "point4 = np.array([1, 1, 1])\n",
    "point5 = np.array([4, 5, 6])\n",
    "\n",
    "# Test the distance between pairs of points\n",
    "distance_1_2 = eclu_dist(point1, point2)\n",
    "distance_1_3 = eclu_dist(point5, point3)\n",
    "distance_1_4 = eclu_dist(point5, point4)\n",
    "\n",
    "print(\"Distance between point1 and point2:\", distance_1_2)\n",
    "print(\"Distance between point1 and point3:\", distance_1_3)\n",
    "print(\"Distance between point1 and point4:\", distance_1_4)"
   ]
  },
  {
   "cell_type": "code",
   "execution_count": 99,
   "id": "7ee4ac7b",
   "metadata": {},
   "outputs": [],
   "source": [
    "## kkk algorithm\n",
    "\n",
    "def knn (X,Y,testpoint,k):\n",
    "    d=[] #list to calculate the distance\n",
    "    m=X.shape[0] # number of rows in data set \n",
    "    for i in range(m):\n",
    "        dis = eclu_dist(X[i], testpoint)\n",
    "        d.append((dis,Y[i]))\n",
    "        \n",
    "    d.sort()    \n",
    "    #return d\n",
    "    # Convert the first k elements of d to a NumPy array, then select only the labels\n",
    "    d = np.array(d[:k])[:, 1]  \n",
    "    uniq, freq = np.unique(d, return_counts=True) # Find unique labels and their frequencies\n",
    "    idx = np.argmax(freq) # Find the index of the label with the highest frequency\n",
    "    label = uniq[idx] # Get the label corresponding to the index\n",
    "    return int(label)\n",
    "    \n",
    "\n",
    "    \n",
    "    "
   ]
  },
  {
   "cell_type": "markdown",
   "id": "3112c5f4",
   "metadata": {},
   "source": [
    "##  Implementing Defined Algorithm on Random Points\n"
   ]
  },
  {
   "cell_type": "code",
   "execution_count": 111,
   "id": "102f7fa2",
   "metadata": {},
   "outputs": [
    {
     "name": "stdout",
     "output_type": "stream",
     "text": [
      "(399, 3) (399, 2)\n"
     ]
    }
   ],
   "source": [
    "x=pd.read_csv(\"Dataset/xdata.csv\" )\n",
    "y=pd.read_csv(\"Dataset/ydata.csv\")\n",
    "\n",
    "print(x.shape,y.shape)"
   ]
  },
  {
   "cell_type": "code",
   "execution_count": 112,
   "id": "6c90cf07",
   "metadata": {},
   "outputs": [
    {
     "data": {
      "text/html": [
       "<div>\n",
       "<style scoped>\n",
       "    .dataframe tbody tr th:only-of-type {\n",
       "        vertical-align: middle;\n",
       "    }\n",
       "\n",
       "    .dataframe tbody tr th {\n",
       "        vertical-align: top;\n",
       "    }\n",
       "\n",
       "    .dataframe thead th {\n",
       "        text-align: right;\n",
       "    }\n",
       "</style>\n",
       "<table border=\"1\" class=\"dataframe\">\n",
       "  <thead>\n",
       "    <tr style=\"text-align: right;\">\n",
       "      <th></th>\n",
       "      <th>0</th>\n",
       "      <th>3.4821055700010444</th>\n",
       "      <th>2.4203917879404533</th>\n",
       "    </tr>\n",
       "  </thead>\n",
       "  <tbody>\n",
       "    <tr>\n",
       "      <th>0</th>\n",
       "      <td>1</td>\n",
       "      <td>3.516279</td>\n",
       "      <td>3.719750</td>\n",
       "    </tr>\n",
       "    <tr>\n",
       "      <th>1</th>\n",
       "      <td>2</td>\n",
       "      <td>4.606496</td>\n",
       "      <td>3.414379</td>\n",
       "    </tr>\n",
       "    <tr>\n",
       "      <th>2</th>\n",
       "      <td>3</td>\n",
       "      <td>4.677011</td>\n",
       "      <td>3.047244</td>\n",
       "    </tr>\n",
       "    <tr>\n",
       "      <th>3</th>\n",
       "      <td>4</td>\n",
       "      <td>4.157725</td>\n",
       "      <td>3.138677</td>\n",
       "    </tr>\n",
       "    <tr>\n",
       "      <th>4</th>\n",
       "      <td>5</td>\n",
       "      <td>3.154431</td>\n",
       "      <td>3.619858</td>\n",
       "    </tr>\n",
       "  </tbody>\n",
       "</table>\n",
       "</div>"
      ],
      "text/plain": [
       "   0  3.4821055700010444  2.4203917879404533\n",
       "0  1            3.516279            3.719750\n",
       "1  2            4.606496            3.414379\n",
       "2  3            4.677011            3.047244\n",
       "3  4            4.157725            3.138677\n",
       "4  5            3.154431            3.619858"
      ]
     },
     "execution_count": 112,
     "metadata": {},
     "output_type": "execute_result"
    }
   ],
   "source": [
    "x.head()"
   ]
  },
  {
   "cell_type": "code",
   "execution_count": 113,
   "id": "8c048e2f",
   "metadata": {},
   "outputs": [
    {
     "data": {
      "text/html": [
       "<div>\n",
       "<style scoped>\n",
       "    .dataframe tbody tr th:only-of-type {\n",
       "        vertical-align: middle;\n",
       "    }\n",
       "\n",
       "    .dataframe tbody tr th {\n",
       "        vertical-align: top;\n",
       "    }\n",
       "\n",
       "    .dataframe thead th {\n",
       "        text-align: right;\n",
       "    }\n",
       "</style>\n",
       "<table border=\"1\" class=\"dataframe\">\n",
       "  <thead>\n",
       "    <tr style=\"text-align: right;\">\n",
       "      <th></th>\n",
       "      <th>0</th>\n",
       "      <th>0.0</th>\n",
       "    </tr>\n",
       "  </thead>\n",
       "  <tbody>\n",
       "    <tr>\n",
       "      <th>0</th>\n",
       "      <td>1</td>\n",
       "      <td>0.0</td>\n",
       "    </tr>\n",
       "    <tr>\n",
       "      <th>1</th>\n",
       "      <td>2</td>\n",
       "      <td>0.0</td>\n",
       "    </tr>\n",
       "    <tr>\n",
       "      <th>2</th>\n",
       "      <td>3</td>\n",
       "      <td>0.0</td>\n",
       "    </tr>\n",
       "    <tr>\n",
       "      <th>3</th>\n",
       "      <td>4</td>\n",
       "      <td>0.0</td>\n",
       "    </tr>\n",
       "    <tr>\n",
       "      <th>4</th>\n",
       "      <td>5</td>\n",
       "      <td>0.0</td>\n",
       "    </tr>\n",
       "  </tbody>\n",
       "</table>\n",
       "</div>"
      ],
      "text/plain": [
       "   0  0.0\n",
       "0  1  0.0\n",
       "1  2  0.0\n",
       "2  3  0.0\n",
       "3  4  0.0\n",
       "4  5  0.0"
      ]
     },
     "execution_count": 113,
     "metadata": {},
     "output_type": "execute_result"
    }
   ],
   "source": [
    "y.head()"
   ]
  },
  {
   "cell_type": "code",
   "execution_count": 115,
   "id": "f7e60005",
   "metadata": {},
   "outputs": [
    {
     "name": "stdout",
     "output_type": "stream",
     "text": [
      "(399, 2)\n",
      "(399,)\n"
     ]
    }
   ],
   "source": [
    "X = x.values\n",
    "Y = y.values\n",
    "\n",
    "X = X[:,1:]\n",
    "Y = Y[:,1:].reshape((-1,))\n",
    "\n",
    "#print(X)\n",
    "\n",
    "print(X.shape)\n",
    "print(Y.shape)\n",
    "\n",
    "#print(Y)"
   ]
  },
  {
   "cell_type": "code",
   "execution_count": null,
   "id": "8e733540",
   "metadata": {},
   "outputs": [],
   "source": []
  },
  {
   "cell_type": "code",
   "execution_count": 105,
   "id": "cde07762",
   "metadata": {},
   "outputs": [
    {
     "data": {
      "text/html": [
       "<div>\n",
       "<style scoped>\n",
       "    .dataframe tbody tr th:only-of-type {\n",
       "        vertical-align: middle;\n",
       "    }\n",
       "\n",
       "    .dataframe tbody tr th {\n",
       "        vertical-align: top;\n",
       "    }\n",
       "\n",
       "    .dataframe thead th {\n",
       "        text-align: right;\n",
       "    }\n",
       "</style>\n",
       "<table border=\"1\" class=\"dataframe\">\n",
       "  <thead>\n",
       "    <tr style=\"text-align: right;\">\n",
       "      <th></th>\n",
       "      <th>0.0</th>\n",
       "    </tr>\n",
       "  </thead>\n",
       "  <tbody>\n",
       "    <tr>\n",
       "      <th>0</th>\n",
       "      <td>0.0</td>\n",
       "    </tr>\n",
       "    <tr>\n",
       "      <th>1</th>\n",
       "      <td>0.0</td>\n",
       "    </tr>\n",
       "    <tr>\n",
       "      <th>2</th>\n",
       "      <td>0.0</td>\n",
       "    </tr>\n",
       "    <tr>\n",
       "      <th>3</th>\n",
       "      <td>0.0</td>\n",
       "    </tr>\n",
       "    <tr>\n",
       "      <th>4</th>\n",
       "      <td>0.0</td>\n",
       "    </tr>\n",
       "  </tbody>\n",
       "</table>\n",
       "</div>"
      ],
      "text/plain": [
       "   0.0\n",
       "0  0.0\n",
       "1  0.0\n",
       "2  0.0\n",
       "3  0.0\n",
       "4  0.0"
      ]
     },
     "execution_count": 105,
     "metadata": {},
     "output_type": "execute_result"
    }
   ],
   "source": []
  },
  {
   "cell_type": "code",
   "execution_count": null,
   "id": "5acdc3f6",
   "metadata": {},
   "outputs": [],
   "source": []
  },
  {
   "cell_type": "code",
   "execution_count": null,
   "id": "59dc4555",
   "metadata": {},
   "outputs": [],
   "source": []
  },
  {
   "cell_type": "code",
   "execution_count": null,
   "id": "e4697682",
   "metadata": {},
   "outputs": [],
   "source": []
  },
  {
   "cell_type": "code",
   "execution_count": 120,
   "id": "f4e441f2",
   "metadata": {},
   "outputs": [
    {
     "data": {
      "image/png": "[encoded data removed]",
      "text/plain": [
       "<Figure size 640x480 with 2 Axes>"
      ]
     },
     "metadata": {},
     "output_type": "display_data"
    }
   ],
   "source": [
    "test_point = np.array([1.2,1]) \n",
    "## pottinf the x and y value \n",
    "plt.scatter(X[:, 0], X[:, 1], c=Y, cmap='viridis')\n",
    "plt.scatter(test_point[0], test_point[1], color='red', marker='*')\n",
    "plt.colorbar(label='Color Label')\n",
    "plt.show()"
   ]
  },
  {
   "cell_type": "code",
   "execution_count": 122,
   "id": "fee22c6f",
   "metadata": {},
   "outputs": [
    {
     "name": "stdout",
     "output_type": "stream",
     "text": [
      "1\n"
     ]
    }
   ],
   "source": [
    "##applyin the algirithm to see where my knn pridit this poit\n",
    "\n",
    "print(knn(X,Y,test_point,5))"
   ]
  },
  {
   "cell_type": "code",
   "execution_count": null,
   "id": "31f522e0",
   "metadata": {},
   "outputs": [],
   "source": []
  }
 ],
 "metadata": {
  "kernelspec": {
   "display_name": "Python 3 (ipykernel)",
   "language": "python",
   "name": "python3"
  },
  "language_info": {
   "codemirror_mode": {
    "name": "ipython",
    "version": 3
   },
   "file_extension": ".py",
   "mimetype": "text/x-python",
   "name": "python",
   "nbconvert_exporter": "python",
   "pygments_lexer": "ipython3",
   "version": "3.11.5"
  }
 },
 "nbformat": 4,
 "nbformat_minor": 5
}
