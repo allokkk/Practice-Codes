{
  "nbformat": 4,
  "nbformat_minor": 0,
  "metadata": {
    "colab": {
      "provenance": [],
      "authorship_tag": "ABX9TyMIw4Vy+/9rQ67p6CYdapx8",
      "include_colab_link": true
    },
    "kernelspec": {
      "name": "python3",
      "display_name": "Python 3"
    },
    "language_info": {
      "name": "python"
    }
  },
  "cells": [
    {
      "cell_type": "markdown",
      "metadata": {
        "id": "view-in-github",
        "colab_type": "text"
      },
      "source": [
        "<a href=\"https://colab.research.google.com/github/allokkk/Practice-Codes/blob/main/Ace_The_Data_Sciene_Interview_coding_practice.ipynb\" target=\"_parent\"><img src=\"https://colab.research.google.com/assets/colab-badge.svg\" alt=\"Open In Colab\"/></a>"
      ]
    },
    {
      "cell_type": "markdown",
      "source": [
        "## 1.Recursion"
      ],
      "metadata": {
        "id": "JOWy-6pDAwQy"
      }
    },
    {
      "cell_type": "markdown",
      "source": [
        "### Fibonnci series using recursion\n"
      ],
      "metadata": {
        "id": "ihcR0OvuA2_e"
      }
    },
    {
      "cell_type": "code",
      "source": [
        "def fib(n):\n",
        "  if n==0:\n",
        "    return 0\n",
        "  elif n==1 :\n",
        "    return 1\n",
        "  else:\n",
        "     return fib(n-1)+fib(n-2)\n",
        "\n",
        "print(fib(5))"
      ],
      "metadata": {
        "colab": {
          "base_uri": "https://localhost:8080/"
        },
        "id": "-ItMmT5FArya",
        "outputId": "0af723c3-c837-47ac-91f6-2d3b2efcbbab"
      },
      "execution_count": null,
      "outputs": [
        {
          "output_type": "stream",
          "name": "stdout",
          "text": [
            "5\n"
          ]
        }
      ]
    },
    {
      "cell_type": "markdown",
      "source": [
        "### Fibonnci series using Iteratively"
      ],
      "metadata": {
        "id": "GOKdUc-1EBHv"
      }
    },
    {
      "cell_type": "code",
      "source": [
        "##Iterative function for fibonaci series\n",
        "\n",
        "def fib(n):\n",
        "  if n==0:\n",
        "    return 0\n",
        "  elif n==1 or n==2:\n",
        "    return 1\n",
        "  else:\n",
        "    prev2=1\n",
        "    prev1=1\n",
        "    res=0\n",
        "    for i in range(3,n+1):\n",
        "      curr=prev2+prev1\n",
        "      prev2=prev1\n",
        "      prev1=curr\n",
        "      res=curr\n",
        "    return curr\n",
        "\n",
        "print(fib(8))\n"
      ],
      "metadata": {
        "colab": {
          "base_uri": "https://localhost:8080/"
        },
        "id": "KD4vZwvVBPr_",
        "outputId": "3ef53bbf-f4c7-4afa-9208-a2365ee6bc16"
      },
      "execution_count": null,
      "outputs": [
        {
          "output_type": "stream",
          "name": "stdout",
          "text": [
            "21\n"
          ]
        }
      ]
    },
    {
      "cell_type": "markdown",
      "source": [
        "### Fibonaci series with Dynamic Programing"
      ],
      "metadata": {
        "id": "lTnCZVYVIubg"
      }
    },
    {
      "cell_type": "code",
      "source": [
        "def fib_dp(n):\n",
        "  dp=[0]*(n+1)\n",
        "  if n==0 or n==1:\n",
        "    return n\n",
        "  else:\n",
        "    dp[n]=fib_dp(n-1)+fib_dp(n-2)\n",
        "\n",
        "    return dp[n]\n",
        "\n",
        "print(fib_dp(5))"
      ],
      "metadata": {
        "colab": {
          "base_uri": "https://localhost:8080/"
        },
        "id": "Y-V9BIUjIt0K",
        "outputId": "7fcd8b2f-81a3-491e-dc98-9f292d2e4b1d"
      },
      "execution_count": null,
      "outputs": [
        {
          "output_type": "stream",
          "name": "stdout",
          "text": [
            "5\n"
          ]
        }
      ]
    },
    {
      "cell_type": "markdown",
      "source": [
        "## 2. Greedy Algorithm (Minimum number of coin required for the coding)"
      ],
      "metadata": {
        "id": "TaYOBu8OFSby"
      }
    },
    {
      "cell_type": "code",
      "source": [
        "def min_coin(k):\n",
        "  coins=[1,5,10,25]\n",
        "  n=len(coins)\n",
        "  i=len(coins)-1\n",
        "  res=[]\n",
        "  while(i>=0 and k>=0):\n",
        "    if coins[i]<=k:\n",
        "      k-=coins[i]\n",
        "      res.append(coins[i])\n",
        "    else:\n",
        "      i-=1\n",
        "\n",
        "  return res\n",
        "print(f\"the number of min coins requires are {len(min_coin(67))} the coins are{min_coin(67)}\")"
      ],
      "metadata": {
        "colab": {
          "base_uri": "https://localhost:8080/",
          "height": 297
        },
        "id": "CFocrrRDDfNq",
        "outputId": "58f6b0b5-f774-4d5b-f471-6ce4f12a7e4b"
      },
      "execution_count": null,
      "outputs": [
        {
          "output_type": "error",
          "ename": "TypeError",
          "evalue": "'list' object is not callable",
          "traceback": [
            "\u001b[0;31m---------------------------------------------------------------------------\u001b[0m",
            "\u001b[0;31mTypeError\u001b[0m                                 Traceback (most recent call last)",
            "\u001b[0;32m<ipython-input-51-9f57d7c6f7bd>\u001b[0m in \u001b[0;36m<cell line: 14>\u001b[0;34m()\u001b[0m\n\u001b[1;32m     12\u001b[0m \u001b[0;34m\u001b[0m\u001b[0m\n\u001b[1;32m     13\u001b[0m   \u001b[0;32mreturn\u001b[0m \u001b[0mres\u001b[0m\u001b[0;34m\u001b[0m\u001b[0;34m\u001b[0m\u001b[0m\n\u001b[0;32m---> 14\u001b[0;31m \u001b[0mprint\u001b[0m\u001b[0;34m(\u001b[0m\u001b[0;34mf\"the number of min coins requires are {len(min_coin(67))} the coins are{min_coin(67)}\"\u001b[0m\u001b[0;34m)\u001b[0m\u001b[0;34m\u001b[0m\u001b[0;34m\u001b[0m\u001b[0m\n\u001b[0m",
            "\u001b[0;32m<ipython-input-51-9f57d7c6f7bd>\u001b[0m in \u001b[0;36mmin_coin\u001b[0;34m(k)\u001b[0m\n\u001b[1;32m      1\u001b[0m \u001b[0;32mdef\u001b[0m \u001b[0mmin_coin\u001b[0m\u001b[0;34m(\u001b[0m\u001b[0mk\u001b[0m\u001b[0;34m)\u001b[0m\u001b[0;34m:\u001b[0m\u001b[0;34m\u001b[0m\u001b[0;34m\u001b[0m\u001b[0m\n\u001b[1;32m      2\u001b[0m   \u001b[0mcoins\u001b[0m\u001b[0;34m=\u001b[0m\u001b[0;34m[\u001b[0m\u001b[0;36m1\u001b[0m\u001b[0;34m,\u001b[0m\u001b[0;36m5\u001b[0m\u001b[0;34m,\u001b[0m\u001b[0;36m10\u001b[0m\u001b[0;34m,\u001b[0m\u001b[0;36m25\u001b[0m\u001b[0;34m]\u001b[0m\u001b[0;34m\u001b[0m\u001b[0;34m\u001b[0m\u001b[0m\n\u001b[0;32m----> 3\u001b[0;31m   \u001b[0mn\u001b[0m\u001b[0;34m=\u001b[0m\u001b[0mlen\u001b[0m\u001b[0;34m(\u001b[0m\u001b[0mcoins\u001b[0m\u001b[0;34m)\u001b[0m\u001b[0;34m\u001b[0m\u001b[0;34m\u001b[0m\u001b[0m\n\u001b[0m\u001b[1;32m      4\u001b[0m   \u001b[0mi\u001b[0m\u001b[0;34m=\u001b[0m\u001b[0mlen\u001b[0m\u001b[0;34m(\u001b[0m\u001b[0mcoins\u001b[0m\u001b[0;34m)\u001b[0m\u001b[0;34m-\u001b[0m\u001b[0;36m1\u001b[0m\u001b[0;34m\u001b[0m\u001b[0;34m\u001b[0m\u001b[0m\n\u001b[1;32m      5\u001b[0m   \u001b[0mres\u001b[0m\u001b[0;34m=\u001b[0m\u001b[0;34m[\u001b[0m\u001b[0;34m]\u001b[0m\u001b[0;34m\u001b[0m\u001b[0;34m\u001b[0m\u001b[0m\n",
            "\u001b[0;31mTypeError\u001b[0m: 'list' object is not callable"
          ]
        }
      ]
    },
    {
      "cell_type": "code",
      "source": [],
      "metadata": {
        "id": "JwGGe1LML1sn"
      },
      "execution_count": null,
      "outputs": []
    },
    {
      "cell_type": "markdown",
      "source": [
        "#### Q1 Amazon : Given two arrays, write a function to get the intersion of the two. For example, if A=[1,2,3,4,5] and B=[0,1,3,7] then you should return [1,3]"
      ],
      "metadata": {
        "id": "4qBTxVviLUa9"
      }
    },
    {
      "cell_type": "code",
      "source": [
        "def intersection(A,B):\n",
        "  res=[]\n",
        "  for i in A:\n",
        "    if i in B:\n",
        "      res.append(i)\n",
        "  return res\n",
        "\n",
        "print(intersection([1,2,3,4,5],[0,1,3,7]))"
      ],
      "metadata": {
        "colab": {
          "base_uri": "https://localhost:8080/"
        },
        "id": "Y0mr8Wg_HD6N",
        "outputId": "13e13c6c-2144-422f-ecef-8bb6c7636311"
      },
      "execution_count": null,
      "outputs": [
        {
          "output_type": "stream",
          "name": "stdout",
          "text": [
            "[1, 3]\n"
          ]
        }
      ]
    },
    {
      "cell_type": "markdown",
      "source": [
        "O(n)*o(m) = O(n*m)\n",
        "\n",
        "n = loop of A\n",
        "m = loop of B"
      ],
      "metadata": {
        "id": "7-cEQNSMR_Fc"
      }
    },
    {
      "cell_type": "code",
      "source": [
        "def intersection(A,B):\n",
        "  res=[]\n",
        "  res=[i for i in A if i in B]\n",
        "  return res\n",
        "\n",
        "print(intersection([1,2,3,4,5],[0,1,3,7]))"
      ],
      "metadata": {
        "colab": {
          "base_uri": "https://localhost:8080/"
        },
        "id": "b3QNH9bjMKsy",
        "outputId": "50d43f28-7457-4956-f190-e0f7be34c21b"
      },
      "execution_count": null,
      "outputs": [
        {
          "output_type": "stream",
          "name": "stdout",
          "text": [
            "[1, 3]\n"
          ]
        }
      ]
    },
    {
      "cell_type": "code",
      "source": [
        "def intersection(A,B):\n",
        "  set_A=set(A)\n",
        "  set_B=set(B)\n",
        "  res=[]\n",
        "  res=list(set_A.intersection(set_B))\n",
        "  return res\n",
        "\n",
        "print(intersection([1,2,3,4,5],[0,1,3,7]))\n",
        "\n",
        "\n",
        "def intersection(A,B):\n",
        "  set_A=set(A)\n",
        "  set_B=set(B)\n",
        "  if len(set_A)<len(set_B):\n",
        "    return [i for i in set_A if i in set_B]\n",
        "  else:\n",
        "    return [i for i in set_B if i in set_A]\n",
        "print(intersection([1,2,3,4,5],[0,1,3,4,7]))"
      ],
      "metadata": {
        "colab": {
          "base_uri": "https://localhost:8080/",
          "height": 315
        },
        "id": "c3ekQ7i7NKXd",
        "outputId": "cd36ba7d-6369-4761-9bb9-7db42846f358"
      },
      "execution_count": null,
      "outputs": [
        {
          "output_type": "stream",
          "name": "stdout",
          "text": [
            "[1, 3]\n"
          ]
        },
        {
          "output_type": "error",
          "ename": "TypeError",
          "evalue": "'list' object is not callable",
          "traceback": [
            "\u001b[0;31m---------------------------------------------------------------------------\u001b[0m",
            "\u001b[0;31mTypeError\u001b[0m                                 Traceback (most recent call last)",
            "\u001b[0;32m<ipython-input-54-b7b1cd430ff1>\u001b[0m in \u001b[0;36m<cell line: 18>\u001b[0;34m()\u001b[0m\n\u001b[1;32m     16\u001b[0m   \u001b[0;32melse\u001b[0m\u001b[0;34m:\u001b[0m\u001b[0;34m\u001b[0m\u001b[0;34m\u001b[0m\u001b[0m\n\u001b[1;32m     17\u001b[0m     \u001b[0;32mreturn\u001b[0m \u001b[0;34m[\u001b[0m\u001b[0mi\u001b[0m \u001b[0;32mfor\u001b[0m \u001b[0mi\u001b[0m \u001b[0;32min\u001b[0m \u001b[0mset_B\u001b[0m \u001b[0;32mif\u001b[0m \u001b[0mi\u001b[0m \u001b[0;32min\u001b[0m \u001b[0mset_A\u001b[0m\u001b[0;34m]\u001b[0m\u001b[0;34m\u001b[0m\u001b[0;34m\u001b[0m\u001b[0m\n\u001b[0;32m---> 18\u001b[0;31m \u001b[0mprint\u001b[0m\u001b[0;34m(\u001b[0m\u001b[0mintersection\u001b[0m\u001b[0;34m(\u001b[0m\u001b[0;34m[\u001b[0m\u001b[0;36m1\u001b[0m\u001b[0;34m,\u001b[0m\u001b[0;36m2\u001b[0m\u001b[0;34m,\u001b[0m\u001b[0;36m3\u001b[0m\u001b[0;34m,\u001b[0m\u001b[0;36m4\u001b[0m\u001b[0;34m,\u001b[0m\u001b[0;36m5\u001b[0m\u001b[0;34m]\u001b[0m\u001b[0;34m,\u001b[0m\u001b[0;34m[\u001b[0m\u001b[0;36m0\u001b[0m\u001b[0;34m,\u001b[0m\u001b[0;36m1\u001b[0m\u001b[0;34m,\u001b[0m\u001b[0;36m3\u001b[0m\u001b[0;34m,\u001b[0m\u001b[0;36m4\u001b[0m\u001b[0;34m,\u001b[0m\u001b[0;36m7\u001b[0m\u001b[0;34m]\u001b[0m\u001b[0;34m)\u001b[0m\u001b[0;34m)\u001b[0m\u001b[0;34m\u001b[0m\u001b[0;34m\u001b[0m\u001b[0m\n\u001b[0m",
            "\u001b[0;32m<ipython-input-54-b7b1cd430ff1>\u001b[0m in \u001b[0;36mintersection\u001b[0;34m(A, B)\u001b[0m\n\u001b[1;32m     12\u001b[0m   \u001b[0mset_A\u001b[0m\u001b[0;34m=\u001b[0m\u001b[0mset\u001b[0m\u001b[0;34m(\u001b[0m\u001b[0mA\u001b[0m\u001b[0;34m)\u001b[0m\u001b[0;34m\u001b[0m\u001b[0;34m\u001b[0m\u001b[0m\n\u001b[1;32m     13\u001b[0m   \u001b[0mset_B\u001b[0m\u001b[0;34m=\u001b[0m\u001b[0mset\u001b[0m\u001b[0;34m(\u001b[0m\u001b[0mB\u001b[0m\u001b[0;34m)\u001b[0m\u001b[0;34m\u001b[0m\u001b[0;34m\u001b[0m\u001b[0m\n\u001b[0;32m---> 14\u001b[0;31m   \u001b[0;32mif\u001b[0m \u001b[0mlen\u001b[0m\u001b[0;34m(\u001b[0m\u001b[0mset_A\u001b[0m\u001b[0;34m)\u001b[0m\u001b[0;34m<\u001b[0m\u001b[0mlen\u001b[0m\u001b[0;34m(\u001b[0m\u001b[0mset_B\u001b[0m\u001b[0;34m)\u001b[0m\u001b[0;34m:\u001b[0m\u001b[0;34m\u001b[0m\u001b[0;34m\u001b[0m\u001b[0m\n\u001b[0m\u001b[1;32m     15\u001b[0m     \u001b[0;32mreturn\u001b[0m \u001b[0;34m[\u001b[0m\u001b[0mi\u001b[0m \u001b[0;32mfor\u001b[0m \u001b[0mi\u001b[0m \u001b[0;32min\u001b[0m \u001b[0mset_A\u001b[0m \u001b[0;32mif\u001b[0m \u001b[0mi\u001b[0m \u001b[0;32min\u001b[0m \u001b[0mset_B\u001b[0m\u001b[0;34m]\u001b[0m\u001b[0;34m\u001b[0m\u001b[0;34m\u001b[0m\u001b[0m\n\u001b[1;32m     16\u001b[0m   \u001b[0;32melse\u001b[0m\u001b[0;34m:\u001b[0m\u001b[0;34m\u001b[0m\u001b[0;34m\u001b[0m\u001b[0m\n",
            "\u001b[0;31mTypeError\u001b[0m: 'list' object is not callable"
          ]
        }
      ]
    },
    {
      "cell_type": "markdown",
      "source": [
        "###D.E Shaw Q2 Given an integer array, return the maximum product of any three number in the array. For example A=[1,3,4,5], you should return 60, while for B=[-2,-4,5,3] you should return 40\n"
      ],
      "metadata": {
        "id": "bngOO8UHTI8f"
      }
    },
    {
      "cell_type": "code",
      "source": [
        "def max_product(A):\n",
        "  A.sort()\n",
        "  return max(A[-1]*A[-2]*A[-3],A[0]*A[1]*A[-1])\n",
        "\n",
        "print(max_product([1,3,4,5]))\n",
        "print(max_product([-2,-4,5,3]))"
      ],
      "metadata": {
        "colab": {
          "base_uri": "https://localhost:8080/"
        },
        "id": "i1Z013zhN-aQ",
        "outputId": "3c559271-3551-4a01-9bbc-f5991b0bfa7c"
      },
      "execution_count": null,
      "outputs": [
        {
          "output_type": "stream",
          "name": "stdout",
          "text": [
            "60\n",
            "40\n"
          ]
        }
      ]
    },
    {
      "cell_type": "code",
      "source": [
        "import heapq\n",
        "\n",
        "def max_product_of_three(nums):\n",
        "    # Find the three largest and two smallest numbers\n",
        "    largest_three = heapq.nlargest(3, nums)  # O(n log 3)\n",
        "    smallest_two = heapq.nsmallest(2, nums)  # O(n log 2)\n",
        "\n",
        "    # Calculate the two possible products\n",
        "    product1 = largest_three[0] * largest_three[1] * largest_three[2]\n",
        "    product2 = smallest_two[0] * smallest_two[1] * largest_three[0]\n",
        "\n",
        "    # Return the maximum of the two products\n",
        "    return max(product1, product2)\n",
        "print(max_product_of_three([1,3,4,5]))\n",
        "print(max_product_of_three([-2,-4,5,3]))"
      ],
      "metadata": {
        "colab": {
          "base_uri": "https://localhost:8080/"
        },
        "id": "0kAxA_cVWfT8",
        "outputId": "c2e08e02-0158-4453-8cec-1855cff88d28"
      },
      "execution_count": null,
      "outputs": [
        {
          "output_type": "stream",
          "name": "stdout",
          "text": [
            "60\n",
            "40\n"
          ]
        }
      ]
    },
    {
      "cell_type": "markdown",
      "source": [
        "### Q3 Facebook. Given list of cordinates, write a function to find the k closest points(measured by Ecludian distance) to the origin. For example, if k-3, and the points are: [[2,-1],[3,2],[4,1],[-1,-1],[-2,2]], then return [[-1,-1],[2,-1],[-2,2]]."
      ],
      "metadata": {
        "id": "QwGHrK5iYcTe"
      }
    },
    {
      "cell_type": "code",
      "source": [
        "\n",
        "import heapq\n",
        "\n",
        "def k_closest_points(points, k):\n",
        "    # Initialize a max heap\n",
        "    max_heap = []\n",
        "\n",
        "    for point in points:\n",
        "        # Calculate squared Euclidean distance\n",
        "        distance = point[0]**2 + point[1]**2\n",
        "        # Push (negative distance, point) to create a max heap by distance\n",
        "        heapq.heappush(max_heap, (-distance, point))\n",
        "\n",
        "        # Maintain only k elements in the heap\n",
        "        if len(max_heap) > k:\n",
        "            heapq.heappop(max_heap)\n",
        "\n",
        "    # Extract the k closest points from the heap\n",
        "    return [point for _, point in max_heap]\n",
        "print(k_closest_points([[2,-1],[3,2],[4,1],[-1,-1],[-2,2]],3))"
      ],
      "metadata": {
        "colab": {
          "base_uri": "https://localhost:8080/",
          "height": 297
        },
        "id": "Rz2dOkYDX4C3",
        "outputId": "d47ed881-76ac-4b71-d4b1-f9e70c106513"
      },
      "execution_count": null,
      "outputs": [
        {
          "output_type": "error",
          "ename": "TypeError",
          "evalue": "'list' object is not callable",
          "traceback": [
            "\u001b[0;31m---------------------------------------------------------------------------\u001b[0m",
            "\u001b[0;31mTypeError\u001b[0m                                 Traceback (most recent call last)",
            "\u001b[0;32m<ipython-input-47-ea662e1068f3>\u001b[0m in \u001b[0;36m<cell line: 19>\u001b[0;34m()\u001b[0m\n\u001b[1;32m     17\u001b[0m     \u001b[0;31m# Extract the k closest points from the heap\u001b[0m\u001b[0;34m\u001b[0m\u001b[0;34m\u001b[0m\u001b[0m\n\u001b[1;32m     18\u001b[0m     \u001b[0;32mreturn\u001b[0m \u001b[0;34m[\u001b[0m\u001b[0mpoint\u001b[0m \u001b[0;32mfor\u001b[0m \u001b[0m_\u001b[0m\u001b[0;34m,\u001b[0m \u001b[0mpoint\u001b[0m \u001b[0;32min\u001b[0m \u001b[0mmax_heap\u001b[0m\u001b[0;34m]\u001b[0m\u001b[0;34m\u001b[0m\u001b[0;34m\u001b[0m\u001b[0m\n\u001b[0;32m---> 19\u001b[0;31m \u001b[0mprint\u001b[0m\u001b[0;34m(\u001b[0m\u001b[0mk_closest_points\u001b[0m\u001b[0;34m(\u001b[0m\u001b[0;34m[\u001b[0m\u001b[0;34m[\u001b[0m\u001b[0;36m2\u001b[0m\u001b[0;34m,\u001b[0m\u001b[0;34m-\u001b[0m\u001b[0;36m1\u001b[0m\u001b[0;34m]\u001b[0m\u001b[0;34m,\u001b[0m\u001b[0;34m[\u001b[0m\u001b[0;36m3\u001b[0m\u001b[0;34m,\u001b[0m\u001b[0;36m2\u001b[0m\u001b[0;34m]\u001b[0m\u001b[0;34m,\u001b[0m\u001b[0;34m[\u001b[0m\u001b[0;36m4\u001b[0m\u001b[0;34m,\u001b[0m\u001b[0;36m1\u001b[0m\u001b[0;34m]\u001b[0m\u001b[0;34m,\u001b[0m\u001b[0;34m[\u001b[0m\u001b[0;34m-\u001b[0m\u001b[0;36m1\u001b[0m\u001b[0;34m,\u001b[0m\u001b[0;34m-\u001b[0m\u001b[0;36m1\u001b[0m\u001b[0;34m]\u001b[0m\u001b[0;34m,\u001b[0m\u001b[0;34m[\u001b[0m\u001b[0;34m-\u001b[0m\u001b[0;36m2\u001b[0m\u001b[0;34m,\u001b[0m\u001b[0;36m2\u001b[0m\u001b[0;34m]\u001b[0m\u001b[0;34m]\u001b[0m\u001b[0;34m,\u001b[0m\u001b[0;36m3\u001b[0m\u001b[0;34m)\u001b[0m\u001b[0;34m)\u001b[0m\u001b[0;34m\u001b[0m\u001b[0;34m\u001b[0m\u001b[0m\n\u001b[0m",
            "\u001b[0;32m<ipython-input-47-ea662e1068f3>\u001b[0m in \u001b[0;36mk_closest_points\u001b[0;34m(points, k)\u001b[0m\n\u001b[1;32m     12\u001b[0m \u001b[0;34m\u001b[0m\u001b[0m\n\u001b[1;32m     13\u001b[0m         \u001b[0;31m# Maintain only k elements in the heap\u001b[0m\u001b[0;34m\u001b[0m\u001b[0;34m\u001b[0m\u001b[0m\n\u001b[0;32m---> 14\u001b[0;31m         \u001b[0;32mif\u001b[0m \u001b[0mlen\u001b[0m\u001b[0;34m(\u001b[0m\u001b[0mmax_heap\u001b[0m\u001b[0;34m)\u001b[0m \u001b[0;34m>\u001b[0m \u001b[0mk\u001b[0m\u001b[0;34m:\u001b[0m\u001b[0;34m\u001b[0m\u001b[0;34m\u001b[0m\u001b[0m\n\u001b[0m\u001b[1;32m     15\u001b[0m             \u001b[0mheapq\u001b[0m\u001b[0;34m.\u001b[0m\u001b[0mheappop\u001b[0m\u001b[0;34m(\u001b[0m\u001b[0mmax_heap\u001b[0m\u001b[0;34m)\u001b[0m\u001b[0;34m\u001b[0m\u001b[0;34m\u001b[0m\u001b[0m\n\u001b[1;32m     16\u001b[0m \u001b[0;34m\u001b[0m\u001b[0m\n",
            "\u001b[0;31mTypeError\u001b[0m: 'list' object is not callable"
          ]
        }
      ]
    },
    {
      "cell_type": "code",
      "source": [],
      "metadata": {
        "id": "ot0C_UUtZmRc"
      },
      "execution_count": null,
      "outputs": []
    }
  ]
}